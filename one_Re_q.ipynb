{
 "cells": [
  {
   "cell_type": "markdown",
   "metadata": {},
   "source": [
    "# Import dependencies"
   ]
  },
  {
   "cell_type": "code",
   "execution_count": 1,
   "metadata": {},
   "outputs": [
    {
     "name": "stderr",
     "output_type": "stream",
     "text": [
      "Using backend: pytorch\n",
      "\n"
     ]
    }
   ],
   "source": [
    "import os\n",
    "os.environ['DDE_BACKEND'] = \"pytorch\"\n",
    "\n",
    "import deepxde as dde\n",
    "import torch\n",
    "from torch import nn\n",
    "import numpy as np\n",
    "import matplotlib.pyplot as plt\n",
    "import pennylane as qml\n",
    "\n",
    "from pathlib import Path\n",
    "\n",
    "import pyvista as pv\n",
    "pv.set_jupyter_backend(\"static\")\n",
    "\n",
    "device = torch.device(\"cuda\")"
   ]
  },
  {
   "cell_type": "code",
   "execution_count": 2,
   "metadata": {},
   "outputs": [],
   "source": [
    "def show_solution(func):\n",
    "    # Input: scalar \"u\" to be displayed\n",
    "    grid = pv.UniformGrid(dimensions=(150, 200, 1),\n",
    "                          origin=(-0.5, -0.5, 0),\n",
    "                          spacing=(0.01, 0.01, 0.01))\n",
    "    \n",
    "    \n",
    "    X = grid.points[:, 0:2]\n",
    "    if isinstance(func, dde.Model) or isinstance(func, dde.nn.NN):\n",
    "        u = func.predict(X)[:, 0]\n",
    "    else:\n",
    "        u = func(X)\n",
    "        \n",
    "    grid.point_data[\"u\"] = u.flatten(order=\"F\")\n",
    "    \n",
    "    plotter = pv.Plotter()\n",
    "    plotter.add_mesh(grid)\n",
    "    plotter.view_xy()\n",
    "    plotter.show()"
   ]
  },
  {
   "cell_type": "markdown",
   "metadata": {},
   "source": [
    "# Define quantum model"
   ]
  },
  {
   "cell_type": "code",
   "execution_count": 3,
   "metadata": {},
   "outputs": [
    {
     "name": "stdout",
     "output_type": "stream",
     "text": [
      "0: ──Rot(0.49,0.77,0.38)─╭●───────╭X──RX(0.00)──Rot(0.16,0.77,0.53)─╭●───────╭X─┤  <Z>\n",
      "1: ──Rot(0.15,0.18,0.34)─╰X─╭●────│───RX(0.00)──Rot(0.09,0.02,0.15)─╰X─╭●────│──┤     \n",
      "2: ──Rot(0.73,0.24,0.85)────╰X─╭●─│───RX(1.00)──Rot(0.55,0.05,0.01)────╰X─╭●─│──┤     \n",
      "3: ──Rot(0.43,0.08,0.96)───────╰X─╰●──RX(1.00)──Rot(0.39,0.19,0.33)───────╰X─╰●─┤     \n"
     ]
    }
   ],
   "source": [
    "n_qubits = 4\n",
    "n_layers = 1\n",
    "n_depth = 1 + 1\n",
    "\n",
    "dev = qml.device(\"lightning.qubit\", wires=n_qubits)\n",
    "\n",
    "@qml.qnode(dev, interface=\"torch\", diff_method=\"adjoint\")\n",
    "def circuit(inputs, weights):\n",
    "    \n",
    "    qml.StronglyEntanglingLayers(weights[0], wires=range(n_qubits))\n",
    "    \n",
    "    qml.RX(inputs[0], wires=0)\n",
    "    qml.RX(inputs[0], wires=1)\n",
    "    qml.RX(inputs[1], wires=2)\n",
    "    qml.RX(inputs[1], wires=3)\n",
    "    \n",
    "    \n",
    "    qml.StronglyEntanglingLayers(weights[1], wires=range(n_qubits))\n",
    "    \n",
    "    return [qml.expval(qml.PauliZ(0))]\n",
    "\n",
    "weight_shapes = {\"weights\": (n_depth, n_layers, n_qubits, 3)}\n",
    "\n",
    "print(qml.draw(circuit, expansion_strategy=\"device\")(inputs=torch.arange(n_qubits),\n",
    "                                                     weights=torch.rand(weight_shapes[\"weights\"])))"
   ]
  },
  {
   "cell_type": "code",
   "execution_count": 4,
   "metadata": {},
   "outputs": [],
   "source": [
    "class ParNet(dde.nn.pytorch.nn.NN):\n",
    "    def __init__(self, circuit, weight_shapes):\n",
    "        super().__init__()\n",
    "        \n",
    "        self.qlayers = nn.ModuleList([qml.qnn.TorchLayer(circuit, weight_shapes) for _ in range(3)])\n",
    "        self.clayers = nn.ModuleList([nn.Sequential(nn.Linear(2, 10),\n",
    "                                                    nn.ReLU(),\n",
    "                                                    nn.Linear(10, 10),\n",
    "                                                    nn.ReLU(),\n",
    "                                                    nn.Linear(10, 1)) for _ in range(3)])\n",
    "        self.addups = nn.ModuleList([nn.Linear(3, 1) for _ in range(3)])\n",
    " \n",
    "        \n",
    "        \n",
    "    def forward(self, x):\n",
    "        # input: (N, 2)\n",
    "        # output: (N, 3)\n",
    "        y = [None] * 3\n",
    "        for i in range(3): # separate networks for (u, v, p)\n",
    "            x_q = torch.clone(x)\n",
    "            x_c = torch.clone(x)\n",
    "            \n",
    "            x_q = self.qlayers[i](x_q).view(-1, 1)\n",
    "            x_c = self.clayers[i](x_c).view(-1, 1)\n",
    "            \n",
    "            y[i] = self.addups[i](torch.hstack([x_q * x_c, x_q, x_c])) # span{x_q * x_c, x_q, x_c} \n",
    "            \n",
    "        return torch.hstack(y)"
   ]
  },
  {
   "cell_type": "code",
   "execution_count": 5,
   "metadata": {},
   "outputs": [],
   "source": [
    "testnet = ParNet(circuit, weight_shapes)"
   ]
  },
  {
   "cell_type": "code",
   "execution_count": 6,
   "metadata": {},
   "outputs": [
    {
     "name": "stderr",
     "output_type": "stream",
     "text": [
      "/home/lurker/miniconda3/envs/torch_dde_q/lib/python3.9/site-packages/pennylane/tape/qscript.py:569: UserWarning: The get_operation will soon be updated to also return the index of the trainable operation in the tape. If you want to switch to the new behavior, you can pass `return_op_index=True`\n",
      "  warnings.warn(\n"
     ]
    },
    {
     "data": {
      "text/plain": [
       "tensor([[ 0.5757,  0.2805, -0.0457],\n",
       "        [ 0.5542,  0.2910, -0.0286],\n",
       "        [ 0.5409,  0.3606, -0.0440],\n",
       "        [ 0.5402,  0.3216, -0.0561],\n",
       "        [ 0.5773,  0.2727, -0.0500]], grad_fn=<CatBackward0>)"
      ]
     },
     "execution_count": 6,
     "metadata": {},
     "output_type": "execute_result"
    }
   ],
   "source": [
    "testnet(torch.rand(5, 2))"
   ]
  },
  {
   "cell_type": "markdown",
   "metadata": {},
   "source": [
    "# Define governing equations"
   ]
  },
  {
   "cell_type": "code",
   "execution_count": 7,
   "metadata": {},
   "outputs": [],
   "source": [
    "Re = 20\n",
    "nu = 1 / Re\n",
    "l = 1 / (2 * nu) - np.sqrt(1 / (4 * nu ** 2) + 4 * np.pi ** 2)"
   ]
  },
  {
   "cell_type": "code",
   "execution_count": 8,
   "metadata": {},
   "outputs": [],
   "source": [
    "def u_func(x):\n",
    "    return 1 - np.exp(l * x[:, 0:1]) * np.cos(2 * np.pi * x[:, 1:2])\n",
    "\n",
    "\n",
    "def v_func(x):\n",
    "    return l / (2 * np.pi) * np.exp(l * x[:, 0:1]) * np.sin(2 * np.pi * x[:, 1:2])\n",
    "\n",
    "\n",
    "def p_func(x):\n",
    "    return 1 / 2 * (1 - np.exp(2 * l * x[:, 0:1]))"
   ]
  },
  {
   "cell_type": "code",
   "execution_count": 9,
   "metadata": {},
   "outputs": [],
   "source": [
    "def pde(x, u):\n",
    "    u_vel, v_vel, p = u[:, 0:1], u[:, 1:2], u[:, 2:]\n",
    "    u_vel_x = dde.grad.jacobian(u, x, i=0, j=0)\n",
    "    u_vel_y = dde.grad.jacobian(u, x, i=0, j=1)\n",
    "    u_vel_xx = dde.grad.hessian(u, x, component=0, i=0, j=0)\n",
    "    u_vel_yy = dde.grad.hessian(u, x, component=0, i=1, j=1)\n",
    "\n",
    "    v_vel_x = dde.grad.jacobian(u, x, i=1, j=0)\n",
    "    v_vel_y = dde.grad.jacobian(u, x, i=1, j=1)\n",
    "    v_vel_xx = dde.grad.hessian(u, x, component=1, i=0, j=0)\n",
    "    v_vel_yy = dde.grad.hessian(u, x, component=1, i=1, j=1)\n",
    "\n",
    "    p_x = dde.grad.jacobian(u, x, i=2, j=0)\n",
    "    p_y = dde.grad.jacobian(u, x, i=2, j=1)\n",
    "\n",
    "    momentum_x = (\n",
    "        u_vel * u_vel_x + v_vel * u_vel_y + p_x - 1 / Re * (u_vel_xx + u_vel_yy)\n",
    "    )\n",
    "    momentum_y = (\n",
    "        u_vel * v_vel_x + v_vel * v_vel_y + p_y - 1 / Re * (v_vel_xx + v_vel_yy)\n",
    "    )\n",
    "    continuity = u_vel_x + v_vel_y\n",
    "\n",
    "    return [momentum_x, momentum_y, continuity]"
   ]
  },
  {
   "cell_type": "markdown",
   "metadata": {},
   "source": [
    "# Define BC"
   ]
  },
  {
   "cell_type": "code",
   "execution_count": 10,
   "metadata": {},
   "outputs": [],
   "source": [
    "def boundary_outflow(x, on_boundary):\n",
    "    return on_boundary and np.isclose(x[0], 1)"
   ]
  },
  {
   "cell_type": "code",
   "execution_count": 11,
   "metadata": {},
   "outputs": [],
   "source": [
    "spatial_domain = dde.geometry.Rectangle(xmin=[-0.5, -0.5], xmax=[1, 1.5])\n",
    "\n",
    "boundary_condition_u = dde.icbc.DirichletBC(\n",
    "    spatial_domain, u_func, lambda _, on_boundary: on_boundary, component=0\n",
    ")\n",
    "boundary_condition_v = dde.icbc.DirichletBC(\n",
    "    spatial_domain, v_func, lambda _, on_boundary: on_boundary, component=1\n",
    ")\n",
    "boundary_condition_right_p = dde.icbc.DirichletBC(\n",
    "    spatial_domain, p_func, boundary_outflow, component=2\n",
    ")\n",
    "\n",
    "data = dde.data.PDE(\n",
    "    spatial_domain,\n",
    "    pde,\n",
    "    [boundary_condition_u, boundary_condition_v, boundary_condition_right_p],\n",
    "    num_domain=2601,\n",
    "    num_boundary=400,\n",
    "    num_test=None,\n",
    ")"
   ]
  },
  {
   "cell_type": "markdown",
   "metadata": {},
   "source": [
    "# Network"
   ]
  },
  {
   "cell_type": "code",
   "execution_count": 12,
   "metadata": {},
   "outputs": [],
   "source": [
    "net = ParNet(circuit, weight_shapes)"
   ]
  },
  {
   "cell_type": "code",
   "execution_count": 13,
   "metadata": {},
   "outputs": [],
   "source": [
    "model = dde.Model(data, net)"
   ]
  },
  {
   "cell_type": "markdown",
   "metadata": {},
   "source": [
    "# Train Adam"
   ]
  },
  {
   "cell_type": "code",
   "execution_count": 14,
   "metadata": {},
   "outputs": [],
   "source": [
    "ckpt_path = Path(\"models/onlyadam_q/ckpt\")\n",
    "ckpt_path.mkdir(parents=True, exist_ok=True)\n",
    "\n",
    "loss_path = Path(\"models/onlyadam_q/loss\")\n",
    "loss_path.mkdir(parents=True, exist_ok=True)"
   ]
  },
  {
   "cell_type": "code",
   "execution_count": null,
   "metadata": {
    "scrolled": true
   },
   "outputs": [
    {
     "name": "stdout",
     "output_type": "stream",
     "text": [
      "Compiling model...\n",
      "'compile' took 0.000482 s\n",
      "\n",
      "Training model...\n",
      "\n",
      "Step      Train loss                                                      Test loss                                                       Test metric\n",
      "0         [8.59e-04, 2.91e-04, 3.53e-03, 1.99e+00, 1.24e-01, 9.77e-01]    [8.59e-04, 2.91e-04, 3.53e-03, 1.99e+00, 1.24e-01, 9.77e-01]    []  \n"
     ]
    }
   ],
   "source": [
    "# train with adam\n",
    "model.compile(\"adam\", lr=1e-3)\n",
    "checkpointer = dde.callbacks.ModelCheckpoint(ckpt_path / \"ckpt\",\n",
    "                                             verbose=1,\n",
    "                                             save_better_only=True)\n",
    "\n",
    "losshistory, train_state = model.train(iterations=10, display_every=1, callbacks=[checkpointer])"
   ]
  },
  {
   "cell_type": "code",
   "execution_count": 1,
   "metadata": {},
   "outputs": [
    {
     "ename": "NameError",
     "evalue": "name 'dde' is not defined",
     "output_type": "error",
     "traceback": [
      "\u001b[0;31m---------------------------------------------------------------------------\u001b[0m",
      "\u001b[0;31mNameError\u001b[0m                                 Traceback (most recent call last)",
      "Cell \u001b[0;32mIn[1], line 1\u001b[0m\n\u001b[0;32m----> 1\u001b[0m \u001b[43mdde\u001b[49m\u001b[38;5;241m.\u001b[39mutils\u001b[38;5;241m.\u001b[39mexternal\u001b[38;5;241m.\u001b[39msave_loss_history(loss_history\u001b[38;5;241m=\u001b[39mlosshistory, fname\u001b[38;5;241m=\u001b[39mloss_path \u001b[38;5;241m/\u001b[39m \u001b[38;5;124m\"\u001b[39m\u001b[38;5;124mloss\u001b[39m\u001b[38;5;124m\"\u001b[39m)\n\u001b[1;32m      2\u001b[0m dde\u001b[38;5;241m.\u001b[39mutils\u001b[38;5;241m.\u001b[39mexternal\u001b[38;5;241m.\u001b[39mplot_loss_history(loss_history\u001b[38;5;241m=\u001b[39mlosshistory)\n",
      "\u001b[0;31mNameError\u001b[0m: name 'dde' is not defined"
     ]
    }
   ],
   "source": [
    "dde.utils.external.save_loss_history(loss_history=losshistory, fname=loss_path / \"loss\")\n",
    "dde.utils.external.plot_loss_history(loss_history=losshistory)"
   ]
  },
  {
   "cell_type": "markdown",
   "metadata": {},
   "source": [
    "# Train L-BFGS"
   ]
  },
  {
   "cell_type": "code",
   "execution_count": null,
   "metadata": {},
   "outputs": [],
   "source": [
    "model.compile(\"L-BFGS\")\n",
    "losshistory, train_state = model.train()"
   ]
  },
  {
   "cell_type": "markdown",
   "metadata": {},
   "source": [
    "# Loss & Inference"
   ]
  },
  {
   "cell_type": "code",
   "execution_count": 20,
   "metadata": {},
   "outputs": [
    {
     "name": "stdout",
     "output_type": "stream",
     "text": [
      "Warning: 100000 points required, but 100284 points sampled.\n",
      "Mean residual: 0.0079963235\n",
      "L2 relative error in u: 0.0046862364\n",
      "L2 relative error in v: 0.019253293\n",
      "L2 relative error in p: 0.006946357\n"
     ]
    }
   ],
   "source": [
    "X = spatial_domain.uniform_points(100000)\n",
    "\n",
    "output = model.predict(X)\n",
    "u_pred = output[:, 0]\n",
    "v_pred = output[:, 1]\n",
    "p_pred = output[:, 2]\n",
    "\n",
    "u_exact = u_func(X).reshape(-1)\n",
    "v_exact = v_func(X).reshape(-1)\n",
    "p_exact = p_func(X).reshape(-1)\n",
    "\n",
    "f = model.predict(X, operator=pde)\n",
    "\n",
    "l2_difference_u = dde.metrics.l2_relative_error(u_exact, u_pred)\n",
    "l2_difference_v = dde.metrics.l2_relative_error(v_exact, v_pred)\n",
    "l2_difference_p = dde.metrics.l2_relative_error(p_exact, p_pred)\n",
    "residual = np.mean(np.absolute(f))\n",
    "\n",
    "print(\"Mean residual:\", residual)\n",
    "print(\"L2 relative error in u:\", l2_difference_u)\n",
    "print(\"L2 relative error in v:\", l2_difference_v)\n",
    "print(\"L2 relative error in p:\", l2_difference_p)"
   ]
  },
  {
   "cell_type": "code",
   "execution_count": null,
   "metadata": {},
   "outputs": [],
   "source": []
  }
 ],
 "metadata": {
  "kernelspec": {
   "display_name": "Python 3 (ipykernel)",
   "language": "python",
   "name": "python3"
  },
  "language_info": {
   "codemirror_mode": {
    "name": "ipython",
    "version": 3
   },
   "file_extension": ".py",
   "mimetype": "text/x-python",
   "name": "python",
   "nbconvert_exporter": "python",
   "pygments_lexer": "ipython3",
   "version": "3.9.16"
  }
 },
 "nbformat": 4,
 "nbformat_minor": 2
}
