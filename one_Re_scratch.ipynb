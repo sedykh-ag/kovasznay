{
 "cells": [
  {
   "cell_type": "code",
   "execution_count": 1,
   "id": "9990a29b",
   "metadata": {},
   "outputs": [],
   "source": [
    "import numpy as np"
   ]
  },
  {
   "cell_type": "code",
   "execution_count": 2,
   "id": "d4684e15",
   "metadata": {},
   "outputs": [],
   "source": [
    "Re = 20\n",
    "nu = 1 / Re\n",
    "l = 1 / (2 * nu) - np.sqrt(1 / (4 * nu ** 2) + 4 * np.pi ** 2)\n",
    "\n",
    "def u_func(x):\n",
    "    return 1 - np.exp(l * x[:, 0:1]) * np.cos(2 * np.pi * x[:, 1:2])\n",
    "\n",
    "\n",
    "def v_func(x):\n",
    "    return l / (2 * np.pi) * np.exp(l * x[:, 0:1]) * np.sin(2 * np.pi * x[:, 1:2])\n",
    "\n",
    "\n",
    "def p_func(x):\n",
    "    return 1 / 2 * (1 - np.exp(2 * l * x[:, 0:1]))"
   ]
  },
  {
   "cell_type": "code",
   "execution_count": null,
   "id": "f00c2b63",
   "metadata": {},
   "outputs": [],
   "source": [
    "def jacobian(x, u, i, j=0):\n",
    "    "
   ]
  }
 ],
 "metadata": {
  "kernelspec": {
   "display_name": "Python 3 (ipykernel)",
   "language": "python",
   "name": "python3"
  },
  "language_info": {
   "codemirror_mode": {
    "name": "ipython",
    "version": 3
   },
   "file_extension": ".py",
   "mimetype": "text/x-python",
   "name": "python",
   "nbconvert_exporter": "python",
   "pygments_lexer": "ipython3",
   "version": "3.9.16"
  }
 },
 "nbformat": 4,
 "nbformat_minor": 5
}
