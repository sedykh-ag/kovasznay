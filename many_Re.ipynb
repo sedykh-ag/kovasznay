{
 "cells": [
  {
   "cell_type": "code",
   "execution_count": 1,
   "metadata": {},
   "outputs": [
    {
     "ename": "ModuleNotFoundError",
     "evalue": "No module named 'deepxde'",
     "output_type": "error",
     "traceback": [
      "\u001b[0;31m---------------------------------------------------------------------------\u001b[0m",
      "\u001b[0;31mModuleNotFoundError\u001b[0m                       Traceback (most recent call last)",
      "Cell \u001b[0;32mIn[1], line 1\u001b[0m\n\u001b[0;32m----> 1\u001b[0m \u001b[38;5;28;01mimport\u001b[39;00m \u001b[38;5;21;01mdeepxde\u001b[39;00m \u001b[38;5;28;01mas\u001b[39;00m \u001b[38;5;21;01mdde\u001b[39;00m\n\u001b[1;32m      2\u001b[0m \u001b[38;5;28;01mimport\u001b[39;00m \u001b[38;5;21;01mtorch\u001b[39;00m\n\u001b[1;32m      3\u001b[0m \u001b[38;5;28;01mimport\u001b[39;00m \u001b[38;5;21;01mnumpy\u001b[39;00m \u001b[38;5;28;01mas\u001b[39;00m \u001b[38;5;21;01mnp\u001b[39;00m\n",
      "\u001b[0;31mModuleNotFoundError\u001b[0m: No module named 'deepxde'"
     ]
    }
   ],
   "source": [
    "import deepxde as dde\n",
    "import torch\n",
    "import numpy as np\n",
    "import matplotlib.pyplot as plt\n",
    "\n",
    "device = torch.device(\"cuda\") if torch.cuda.is_available() else torch.device(\"cpu\")"
   ]
  },
  {
   "cell_type": "code",
   "execution_count": 2,
   "metadata": {},
   "outputs": [],
   "source": [
    "def pde(x, u):\n",
    "    u_vel, v_vel, p = u[:, 0:1], u[:, 1:2], u[:, 2:]\n",
    "    \n",
    "    Re = x[:, 2:]\n",
    "\n",
    "    u_vel_x = dde.grad.jacobian(u, x, i=0, j=0)\n",
    "    u_vel_y = dde.grad.jacobian(u, x, i=0, j=1)\n",
    "    u_vel_xx = dde.grad.hessian(u, x, component=0, i=0, j=0)\n",
    "    u_vel_yy = dde.grad.hessian(u, x, component=0, i=1, j=1)\n",
    "\n",
    "    v_vel_x = dde.grad.jacobian(u, x, i=1, j=0)\n",
    "    v_vel_y = dde.grad.jacobian(u, x, i=1, j=1)\n",
    "    v_vel_xx = dde.grad.hessian(u, x, component=1, i=0, j=0)\n",
    "    v_vel_yy = dde.grad.hessian(u, x, component=1, i=1, j=1)\n",
    "\n",
    "    p_x = dde.grad.jacobian(u, x, i=2, j=0)\n",
    "    p_y = dde.grad.jacobian(u, x, i=2, j=1)\n",
    "\n",
    "    momentum_x = (\n",
    "        u_vel * u_vel_x + v_vel * u_vel_y + p_x - 1 / Re * (u_vel_xx + u_vel_yy)\n",
    "    )\n",
    "    momentum_y = (\n",
    "        u_vel * v_vel_x + v_vel * v_vel_y + p_y - 1 / Re * (v_vel_xx + v_vel_yy)\n",
    "    )\n",
    "    continuity = u_vel_x + v_vel_y\n",
    "\n",
    "    return [momentum_x, momentum_y, continuity]"
   ]
  },
  {
   "cell_type": "code",
   "execution_count": 3,
   "metadata": {},
   "outputs": [],
   "source": [
    "def u_func(x):\n",
    "    Re = x[:, 2:]\n",
    "    nu = 1 / Re\n",
    "    l = 1 / (2 * nu) - np.sqrt(1 / (4 * nu ** 2) + 4 * np.pi ** 2)  \n",
    "\n",
    "    return 1 - np.exp(l * x[:, 0:1]) * np.cos(2 * np.pi * x[:, 1:2])\n",
    "\n",
    "def v_func(x):\n",
    "    Re = x[:, 2:]\n",
    "    nu = 1 / Re\n",
    "    l = 1 / (2 * nu) - np.sqrt(1 / (4 * nu ** 2) + 4 * np.pi ** 2) \n",
    "\n",
    "    return l / (2 * np.pi) * np.exp(l * x[:, 0:1]) * np.sin(2 * np.pi * x[:, 1:2])\n",
    "\n",
    "def p_func(x):\n",
    "    Re = x[:, 2:]\n",
    "    nu = 1 / Re\n",
    "    l = 1 / (2 * nu) - np.sqrt(1 / (4 * nu ** 2) + 4 * np.pi ** 2) \n",
    "\n",
    "    return 1 / 2 * (1 - np.exp(2 * l * x[:, 0:1]))"
   ]
  },
  {
   "cell_type": "code",
   "execution_count": 4,
   "metadata": {},
   "outputs": [],
   "source": [
    "def boundary_outflow(x, on_boundary):\n",
    "    return on_boundary and np.isclose(x[0], 1)"
   ]
  },
  {
   "cell_type": "code",
   "execution_count": 5,
   "metadata": {},
   "outputs": [
    {
     "name": "stdout",
     "output_type": "stream",
     "text": [
      "Warning: 100000 points required, but 103500 points sampled.\n"
     ]
    }
   ],
   "source": [
    "# spatial_domain = dde.geometry.Rectangle(xmin=[-0.5, -0.5], xmax=[1, 1.5])\n",
    "\n",
    "spatial_domain = dde.geometry.Hypercube(xmin=[-0.5, -0.5, 15], xmax=[1, 1.5, 25])\n",
    "\n",
    "boundary_condition_u = dde.icbc.DirichletBC(\n",
    "    spatial_domain, u_func, lambda _, on_boundary: on_boundary, component=0\n",
    ")\n",
    "boundary_condition_v = dde.icbc.DirichletBC(\n",
    "    spatial_domain, v_func, lambda _, on_boundary: on_boundary, component=1\n",
    ")\n",
    "boundary_condition_right_p = dde.icbc.DirichletBC(\n",
    "    spatial_domain, p_func, boundary_outflow, component=2\n",
    ")\n",
    "\n",
    "data = dde.data.PDE(\n",
    "    spatial_domain,\n",
    "    pde,\n",
    "    [boundary_condition_u, boundary_condition_v, boundary_condition_right_p],\n",
    "    num_domain=2601,\n",
    "    num_boundary=400,\n",
    "    num_test=100000,\n",
    ")"
   ]
  },
  {
   "cell_type": "code",
   "execution_count": 6,
   "metadata": {},
   "outputs": [],
   "source": [
    "net = dde.nn.FNN([3] + 4 * [50] + [3], \"tanh\", \"Glorot normal\")"
   ]
  },
  {
   "cell_type": "code",
   "execution_count": 7,
   "metadata": {},
   "outputs": [],
   "source": [
    "model = dde.Model(data, net)"
   ]
  },
  {
   "cell_type": "code",
   "execution_count": 8,
   "metadata": {},
   "outputs": [
    {
     "name": "stdout",
     "output_type": "stream",
     "text": [
      "Compiling model...\n",
      "'compile' took 0.000313 s\n",
      "\n",
      "Training model...\n",
      "\n",
      "Step      Train loss                                                      Test loss                                                       Test metric\n",
      "0         [6.70e-03, 4.02e-03, 2.97e-04, 4.00e+00, 6.23e-01, 4.25e-01]    [6.71e-03, 4.02e-03, 2.79e-04, 4.00e+00, 6.23e-01, 4.25e-01]    []  \n",
      "Epoch 1: train loss improved from inf to 5.06e+00, saving model to model_many_Re/model.ckpt-1.pt ...\n",
      "\n",
      "1000      [3.90e-02, 6.42e-03, 9.06e-03, 9.52e-02, 2.92e-02, 8.35e-04]    [2.35e-02, 3.31e-03, 6.66e-03, 9.52e-02, 2.92e-02, 8.35e-04]    []  \n",
      "Epoch 1000: train loss improved from 5.06e+00 to 1.80e-01, saving model to model_many_Re/model.ckpt-1000.pt ...\n",
      "\n",
      "2000      [1.28e-02, 4.44e-03, 3.43e-03, 1.53e-02, 6.49e-03, 1.26e-04]    [8.73e-03, 2.54e-03, 2.32e-03, 1.53e-02, 6.49e-03, 1.26e-04]    []  \n",
      "Epoch 2000: train loss improved from 1.80e-01 to 4.25e-02, saving model to model_many_Re/model.ckpt-2000.pt ...\n",
      "\n",
      "3000      [1.09e-02, 2.04e-03, 2.27e-03, 4.16e-03, 2.74e-03, 1.04e-04]    [9.28e-03, 1.13e-03, 1.57e-03, 4.16e-03, 2.74e-03, 1.04e-04]    []  \n",
      "Epoch 3000: train loss improved from 4.25e-02 to 2.22e-02, saving model to model_many_Re/model.ckpt-3000.pt ...\n",
      "\n",
      "4000      [2.90e-03, 1.26e-03, 1.12e-03, 2.78e-03, 1.74e-03, 3.95e-05]    [2.53e-03, 8.59e-04, 8.34e-04, 2.78e-03, 1.74e-03, 3.95e-05]    []  \n",
      "Epoch 4000: train loss improved from 2.22e-02 to 9.84e-03, saving model to model_many_Re/model.ckpt-4000.pt ...\n",
      "\n",
      "5000      [6.09e-03, 1.45e-03, 7.11e-04, 1.12e-03, 1.32e-03, 3.51e-05]    [5.45e-03, 9.89e-04, 5.12e-04, 1.12e-03, 1.32e-03, 3.51e-05]    []  \n",
      "6000      [1.09e-03, 6.12e-04, 5.55e-04, 7.31e-04, 8.48e-04, 1.69e-05]    [8.40e-04, 4.14e-04, 3.80e-04, 7.31e-04, 8.48e-04, 1.69e-05]    []  \n",
      "Epoch 6000: train loss improved from 9.84e-03 to 3.85e-03, saving model to model_many_Re/model.ckpt-6000.pt ...\n",
      "\n",
      "7000      [1.43e-03, 5.57e-04, 4.90e-04, 6.02e-04, 6.97e-04, 1.49e-05]    [1.18e-03, 3.92e-04, 3.72e-04, 6.02e-04, 6.97e-04, 1.49e-05]    []  \n",
      "Epoch 7000: train loss improved from 3.85e-03 to 3.79e-03, saving model to model_many_Re/model.ckpt-7000.pt ...\n",
      "\n",
      "8000      [6.31e-04, 4.01e-04, 3.60e-04, 4.93e-04, 5.51e-04, 9.40e-06]    [5.30e-04, 2.96e-04, 2.49e-04, 4.93e-04, 5.51e-04, 9.40e-06]    []  \n",
      "Epoch 8000: train loss improved from 3.79e-03 to 2.44e-03, saving model to model_many_Re/model.ckpt-8000.pt ...\n",
      "\n",
      "9000      [4.22e-03, 5.95e-04, 3.28e-04, 9.75e-04, 4.81e-04, 1.32e-05]    [3.71e-03, 4.93e-04, 2.42e-04, 9.75e-04, 4.81e-04, 1.32e-05]    []  \n",
      "10000     [1.39e-03, 3.29e-04, 4.01e-04, 4.16e-04, 4.16e-04, 8.92e-06]    [1.16e-03, 2.41e-04, 2.92e-04, 4.16e-04, 4.16e-04, 8.92e-06]    []  \n",
      "11000     [5.29e-04, 2.72e-04, 2.69e-04, 3.07e-04, 3.60e-04, 6.89e-06]    [4.19e-04, 2.10e-04, 1.85e-04, 3.07e-04, 3.60e-04, 6.89e-06]    []  \n",
      "Epoch 11000: train loss improved from 2.44e-03 to 1.74e-03, saving model to model_many_Re/model.ckpt-11000.pt ...\n",
      "\n",
      "12000     [1.03e-03, 2.55e-04, 2.69e-04, 3.74e-04, 3.31e-04, 8.71e-06]    [8.39e-04, 1.96e-04, 1.88e-04, 3.74e-04, 3.31e-04, 8.71e-06]    []  \n",
      "13000     [1.35e-03, 3.09e-04, 3.02e-04, 3.99e-04, 2.82e-04, 6.35e-06]    [1.18e-03, 2.38e-04, 2.21e-04, 3.99e-04, 2.82e-04, 6.35e-06]    []  \n",
      "14000     [4.40e-03, 6.16e-04, 2.29e-04, 4.86e-04, 3.76e-04, 1.98e-05]    [3.91e-03, 4.82e-04, 1.65e-04, 4.86e-04, 3.76e-04, 1.98e-05]    []  \n",
      "15000     [1.49e-03, 2.93e-04, 2.84e-04, 3.36e-04, 2.31e-04, 7.15e-06]    [1.34e-03, 2.25e-04, 2.17e-04, 3.36e-04, 2.31e-04, 7.15e-06]    []  \n",
      "16000     [2.76e-03, 3.42e-04, 3.68e-04, 4.70e-04, 2.64e-04, 6.64e-06]    [2.52e-03, 2.57e-04, 2.95e-04, 4.70e-04, 2.64e-04, 6.64e-06]    []  \n",
      "17000     [4.40e-04, 1.56e-04, 1.74e-04, 1.58e-04, 1.76e-04, 4.39e-06]    [3.81e-04, 1.22e-04, 1.23e-04, 1.58e-04, 1.76e-04, 4.39e-06]    []  \n",
      "Epoch 17000: train loss improved from 1.74e-03 to 1.11e-03, saving model to model_many_Re/model.ckpt-17000.pt ...\n",
      "\n",
      "18000     [1.04e-03, 1.94e-04, 1.53e-04, 2.46e-04, 1.71e-04, 7.89e-06]    [9.42e-04, 1.56e-04, 1.09e-04, 2.46e-04, 1.71e-04, 7.89e-06]    []  \n",
      "19000     [1.82e-03, 2.95e-04, 1.67e-04, 2.08e-04, 1.76e-04, 9.80e-06]    [1.67e-03, 2.24e-04, 1.21e-04, 2.08e-04, 1.76e-04, 9.80e-06]    []  \n",
      "20000     [3.11e-03, 3.45e-04, 3.05e-04, 3.42e-04, 1.61e-04, 1.19e-05]    [2.61e-03, 2.42e-04, 2.61e-04, 3.42e-04, 1.61e-04, 1.19e-05]    []  \n",
      "21000     [5.36e-04, 1.26e-04, 1.35e-04, 2.40e-04, 1.31e-04, 3.64e-06]    [4.84e-04, 1.04e-04, 1.03e-04, 2.40e-04, 1.31e-04, 3.64e-06]    []  \n",
      "22000     [3.15e-03, 2.38e-04, 2.65e-04, 8.45e-04, 2.17e-04, 8.97e-06]    [2.78e-03, 2.00e-04, 2.34e-04, 8.45e-04, 2.17e-04, 8.97e-06]    []  \n",
      "23000     [1.63e-03, 1.96e-04, 1.66e-04, 3.53e-04, 1.49e-04, 2.14e-06]    [1.50e-03, 1.58e-04, 1.39e-04, 3.53e-04, 1.49e-04, 2.14e-06]    []  \n",
      "24000     [1.12e-03, 2.33e-04, 1.54e-04, 4.98e-04, 1.14e-04, 2.64e-05]    [9.79e-04, 1.98e-04, 1.29e-04, 4.98e-04, 1.14e-04, 2.64e-05]    []  \n",
      "25000     [3.28e-04, 1.10e-04, 1.05e-04, 8.59e-05, 9.28e-05, 8.22e-06]    [2.67e-04, 9.01e-05, 7.66e-05, 8.59e-05, 9.28e-05, 8.22e-06]    []  \n",
      "Epoch 25000: train loss improved from 1.11e-03 to 7.30e-04, saving model to model_many_Re/model.ckpt-25000.pt ...\n",
      "\n",
      "26000     [2.46e-04, 9.65e-05, 1.02e-04, 7.45e-05, 8.34e-05, 2.36e-06]    [2.12e-04, 7.03e-05, 7.32e-05, 7.45e-05, 8.34e-05, 2.36e-06]    []  \n",
      "Epoch 26000: train loss improved from 7.30e-04 to 6.04e-04, saving model to model_many_Re/model.ckpt-26000.pt ...\n",
      "\n",
      "27000     [2.89e-03, 4.29e-04, 1.23e-04, 1.40e-04, 1.52e-04, 6.29e-05]    [2.61e-03, 3.31e-04, 9.20e-05, 1.40e-04, 1.52e-04, 6.29e-05]    []  \n",
      "28000     [4.48e-04, 1.11e-04, 9.72e-05, 8.67e-05, 7.56e-05, 5.16e-05]    [3.52e-04, 9.09e-05, 7.28e-05, 8.67e-05, 7.56e-05, 5.16e-05]    []  \n",
      "29000     [1.95e-03, 2.19e-04, 2.23e-04, 3.33e-04, 1.19e-04, 3.53e-05]    [1.69e-03, 1.52e-04, 1.95e-04, 3.33e-04, 1.19e-04, 3.53e-05]    []  \n",
      "30000     [1.91e-04, 9.12e-05, 8.90e-05, 7.75e-05, 6.57e-05, 1.35e-05]    [1.60e-04, 7.07e-05, 6.70e-05, 7.75e-05, 6.57e-05, 1.35e-05]    []  \n",
      "Epoch 30000: train loss improved from 6.04e-04 to 5.28e-04, saving model to model_many_Re/model.ckpt-30000.pt ...\n",
      "\n",
      "\n",
      "Best model at step 30000:\n",
      "  train loss: 5.28e-04\n",
      "  test loss: 4.55e-04\n",
      "  test metric: []\n",
      "\n",
      "'train' took 583.940841 s\n",
      "\n"
     ]
    }
   ],
   "source": [
    "# train with adam\n",
    "model.compile(\"adam\", lr=1e-3)\n",
    "checkpointer = dde.callbacks.ModelCheckpoint(\"model_many_Re/model.ckpt\",\n",
    "                                             verbose=1,\n",
    "                                             save_better_only=True)\n",
    "losshistory, train_state = model.train(iterations=30000, callbacks=[checkpointer])"
   ]
  },
  {
   "cell_type": "code",
   "execution_count": 10,
   "metadata": {},
   "outputs": [
    {
     "name": "stdout",
     "output_type": "stream",
     "text": [
      "Compiling model...\n",
      "'compile' took 0.000945 s\n",
      "\n",
      "Training model...\n",
      "\n",
      "Step      Train loss                                                      Test loss                                                       Test metric\n",
      "30000     [1.91e-04, 9.12e-05, 8.90e-05, 7.75e-05, 6.57e-05, 1.35e-05]    [1.60e-04, 7.07e-05, 6.70e-05, 7.75e-05, 6.57e-05, 1.35e-05]    []  \n",
      "31000     [2.92e-05, 2.32e-05, 2.24e-05, 1.66e-05, 1.20e-05, 1.25e-06]    [2.67e-05, 1.62e-05, 1.73e-05, 1.66e-05, 1.20e-05, 1.25e-06]    []  \n",
      "32000     [1.50e-05, 1.25e-05, 1.35e-05, 7.10e-06, 3.01e-06, 4.25e-07]    [1.38e-05, 1.00e-05, 9.93e-06, 7.10e-06, 3.01e-06, 4.25e-07]    []  \n",
      "33000     [9.51e-06, 7.10e-06, 7.63e-06, 4.23e-06, 1.46e-06, 2.70e-07]    [8.60e-06, 5.43e-06, 5.65e-06, 4.23e-06, 1.46e-06, 2.70e-07]    []  \n",
      "34000     [6.28e-06, 5.05e-06, 5.16e-06, 3.06e-06, 1.28e-06, 1.34e-07]    [5.80e-06, 3.95e-06, 3.98e-06, 3.06e-06, 1.28e-06, 1.34e-07]    []  \n",
      "35000     [4.63e-06, 3.95e-06, 3.95e-06, 2.33e-06, 1.09e-06, 1.07e-07]    [4.34e-06, 3.21e-06, 2.92e-06, 2.33e-06, 1.09e-06, 1.07e-07]    []  \n",
      "36000     [3.68e-06, 2.96e-06, 3.25e-06, 1.88e-06, 8.06e-07, 1.17e-07]    [3.42e-06, 2.55e-06, 2.33e-06, 1.88e-06, 8.06e-07, 1.17e-07]    []  \n",
      "37000     [2.90e-06, 2.19e-06, 2.67e-06, 1.58e-06, 7.52e-07, 9.44e-08]    [2.66e-06, 1.85e-06, 1.82e-06, 1.58e-06, 7.52e-07, 9.44e-08]    []  \n",
      "38000     [2.29e-06, 1.85e-06, 2.16e-06, 1.30e-06, 6.26e-07, 9.33e-08]    [2.15e-06, 1.62e-06, 1.61e-06, 1.30e-06, 6.26e-07, 9.33e-08]    []  \n",
      "39000     [2.11e-06, 1.66e-06, 2.01e-06, 1.21e-06, 5.67e-07, 7.19e-08]    [1.93e-06, 1.49e-06, 1.48e-06, 1.21e-06, 5.67e-07, 7.19e-08]    []  \n",
      "40000     [2.11e-06, 1.66e-06, 2.00e-06, 1.21e-06, 5.67e-07, 7.20e-08]    [1.93e-06, 1.49e-06, 1.48e-06, 1.21e-06, 5.67e-07, 7.20e-08]    []  \n",
      "41000     [2.11e-06, 1.66e-06, 2.00e-06, 1.21e-06, 5.66e-07, 7.22e-08]    [1.93e-06, 1.49e-06, 1.48e-06, 1.21e-06, 5.66e-07, 7.22e-08]    []  \n",
      "42000     [2.11e-06, 1.66e-06, 2.00e-06, 1.21e-06, 5.66e-07, 7.22e-08]    [1.93e-06, 1.49e-06, 1.48e-06, 1.21e-06, 5.66e-07, 7.22e-08]    []  \n",
      "43000     [2.11e-06, 1.66e-06, 2.00e-06, 1.21e-06, 5.66e-07, 7.22e-08]    [1.93e-06, 1.48e-06, 1.48e-06, 1.21e-06, 5.66e-07, 7.22e-08]    []  \n",
      "44000     [2.10e-06, 1.66e-06, 2.00e-06, 1.21e-06, 5.66e-07, 7.23e-08]    [1.93e-06, 1.48e-06, 1.48e-06, 1.21e-06, 5.66e-07, 7.23e-08]    []  \n",
      "45000     [2.10e-06, 1.66e-06, 2.00e-06, 1.21e-06, 5.66e-07, 7.22e-08]    [1.92e-06, 1.48e-06, 1.48e-06, 1.21e-06, 5.66e-07, 7.22e-08]    []  \n",
      "\n",
      "Best model at step 45000:\n",
      "  train loss: 7.61e-06\n",
      "  test loss: 6.74e-06\n",
      "  test metric: []\n",
      "\n",
      "'train' took 543.493988 s\n",
      "\n"
     ]
    }
   ],
   "source": [
    "model.compile(\"L-BFGS\")\n",
    "checkpointer = dde.callbacks.ModelCheckpoint(\"model_many_Re/model.ckpt\",\n",
    "                                             verbose=1,\n",
    "                                             save_better_only=True)\n",
    "losshistory, train_state = model.train()"
   ]
  },
  {
   "cell_type": "code",
   "execution_count": 12,
   "metadata": {},
   "outputs": [
    {
     "name": "stdout",
     "output_type": "stream",
     "text": [
      "Epoch 45000: saving model to final_many_Re-45000.pt ...\n",
      "\n"
     ]
    },
    {
     "data": {
      "text/plain": [
       "'final_many_Re-45000.pt'"
      ]
     },
     "execution_count": 12,
     "metadata": {},
     "output_type": "execute_result"
    }
   ],
   "source": [
    "model.save(save_path=\"final_many_Re\", verbose=1)"
   ]
  },
  {
   "cell_type": "markdown",
   "metadata": {},
   "source": [
    "# Inference + loss"
   ]
  },
  {
   "cell_type": "code",
   "execution_count": 11,
   "metadata": {},
   "outputs": [
    {
     "data": {
      "image/png": "[encoded data removed]",
      "text/plain": [
       "<Figure size 640x480 with 1 Axes>"
      ]
     },
     "metadata": {},
     "output_type": "display_data"
    }
   ],
   "source": [
    "dde.utils.external.plot_loss_history(loss_history=losshistory)"
   ]
  },
  {
   "cell_type": "code",
   "execution_count": null,
   "metadata": {},
   "outputs": [],
   "source": []
  }
 ],
 "metadata": {
  "kernelspec": {
   "display_name": "Python 3 (ipykernel)",
   "language": "python",
   "name": "python3"
  },
  "language_info": {
   "codemirror_mode": {
    "name": "ipython",
    "version": 3
   },
   "file_extension": ".py",
   "mimetype": "text/x-python",
   "name": "python",
   "nbconvert_exporter": "python",
   "pygments_lexer": "ipython3",
   "version": "3.9.16"
  }
 },
 "nbformat": 4,
 "nbformat_minor": 2
}
