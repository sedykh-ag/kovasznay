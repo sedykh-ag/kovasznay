{
 "cells": [
  {
   "cell_type": "markdown",
   "metadata": {},
   "source": [
    "# Import dependencies"
   ]
  },
  {
   "cell_type": "code",
   "execution_count": null,
   "metadata": {},
   "outputs": [],
   "source": [
    "import os\n",
    "import torch\n",
    "import numpy as np\n",
    "import matplotlib.pyplot as plt\n",
    "import pennylane as qml\n",
    "\n",
    "from pathlib import Path\n",
    "\n",
    "device = torch.device(\"cpu\")"
   ]
  },
  {
   "cell_type": "markdown",
   "metadata": {},
   "source": [
    "# Define functions"
   ]
  },
  {
   "cell_type": "code",
   "execution_count": null,
   "metadata": {},
   "outputs": [],
   "source": [
    "def f(X):\n",
    "    x = X[:, 0]\n",
    "    y = X[:, 1]\n",
    "    return 0.1 + 0.5 * np.sin(x) + 0.3 * np.cos(y)"
   ]
  },
  {
   "cell_type": "code",
   "execution_count": null,
   "metadata": {},
   "outputs": [],
   "source": [
    "xs = np.linspace(-np.pi, np.pi, 100)\n",
    "ys = np.linspace(-np.pi, np.pi, 100)\n",
    "\n",
    "xg, yg = np.meshgrid(xs, ys)\n",
    "X = np.hstack([xg.reshape(-1, 1), yg.reshape(-1, 1)])"
   ]
  },
  {
   "cell_type": "code",
   "execution_count": null,
   "metadata": {},
   "outputs": [],
   "source": [
    "def plot2D(func):\n",
    "    s = func(X).reshape(100, 100)\n",
    "    \n",
    "    fig = plt.figure()\n",
    "    ax = plt.gca()\n",
    "    ax.set_aspect(1.0)\n",
    "    c = ax.pcolormesh(xg, yg, s, shading=\"nearest\")\n",
    "    fig.colorbar(c, ax=ax)\n",
    "    plt.show()\n",
    "\n",
    "plot2D(f)"
   ]
  },
  {
   "cell_type": "markdown",
   "metadata": {},
   "source": [
    "# Approximating with quantum circuits"
   ]
  },
  {
   "cell_type": "code",
   "execution_count": 36,
   "metadata": {},
   "outputs": [],
   "source": [
    "n_qubits = 4\n",
    "n_layers = 1\n",
    "n_depth = 1\n",
    "\n",
    "dev = qml.device(\"lightning.qubit\", wires=n_qubits)\n",
    "\n",
    "@qml.qnode(dev, interface=\"torch\", diff_method=\"adjoint\")\n",
    "def circuit(inputs, weights):\n",
    "    \n",
    "    qml.StronglyEntanglingLayers(weights[0], wires=range(n_qubits))\n",
    "    \n",
    "    for d in range(n_depth):\n",
    "        for i in range(n_qubits):\n",
    "            qml.RX(inputs[i % 2], wires=i)\n",
    "        qml.StronglyEntanglingLayers(weights[d + 1], wires=range(n_qubits))\n",
    "    \n",
    "    return [qml.expval(qml.PauliZ(0))]\n",
    "\n",
    "weight_shapes = {\"weights\": (n_depth + 1, n_layers, n_qubits, 3)}"
   ]
  },
  {
   "cell_type": "code",
   "execution_count": 37,
   "metadata": {},
   "outputs": [
    {
     "name": "stdout",
     "output_type": "stream",
     "text": [
      "0: ──Rot(0.48,0.43,0.35)─╭●───────╭X──RX(0.00)──Rot(0.49,0.06,0.81)─╭●───────╭X─┤  <Z>\n",
      "1: ──Rot(0.78,0.82,0.85)─╰X─╭●────│───RX(1.00)──Rot(0.93,0.97,0.25)─╰X─╭●────│──┤     \n",
      "2: ──Rot(0.36,0.18,0.93)────╰X─╭●─│───RX(0.00)──Rot(0.75,0.76,0.81)────╰X─╭●─│──┤     \n",
      "3: ──Rot(0.73,0.54,0.65)───────╰X─╰●──RX(1.00)──Rot(0.99,0.34,0.08)───────╰X─╰●─┤     \n"
     ]
    }
   ],
   "source": [
    "print(qml.draw(circuit, expansion_strategy=\"device\")(inputs=torch.arange(2),\n",
    "                                                     weights=torch.rand(weight_shapes[\"weights\"])))"
   ]
  },
  {
   "cell_type": "code",
   "execution_count": 38,
   "metadata": {},
   "outputs": [],
   "source": [
    "class FreqNet(torch.nn.Module):\n",
    "    def __init__(self, circuit, weight_shapes):\n",
    "        super().__init__()\n",
    "        self.enc = torch.nn.Linear(1, 1, bias=False)\n",
    "        self.qlayer = qml.qnn.TorchLayer(circuit, weight_shapes)\n",
    "        self.dec = torch.nn.Linear(1, 1, bias=False)\n",
    "        \n",
    "    def forward(self, x):\n",
    "        # x = w * x\n",
    "        # x = self.enc(x)\n",
    "        x = self.qlayer(x).view(-1, 1)\n",
    "        # x = self.dec(x)\n",
    "        \n",
    "        return x"
   ]
  },
  {
   "cell_type": "code",
   "execution_count": 39,
   "metadata": {},
   "outputs": [],
   "source": [
    "net = FreqNet(circuit, weight_shapes)"
   ]
  },
  {
   "cell_type": "code",
   "execution_count": 44,
   "metadata": {},
   "outputs": [],
   "source": [
    "def fit(net, f, epochs=100):\n",
    "    \n",
    "    X = torch.tensor(X).float()\n",
    "    \n",
    "    criterion = torch.nn.MSELoss()\n",
    "    optim = torch.optim.Adam(net.parameters(), lr=0.01)\n",
    "    \n",
    "    x = torch.linspace(-torch.pi, torch.pi, 100)\n",
    "    y_exact = f(X)\n",
    "    \n",
    "    for e in range(epochs):\n",
    "        y_pred = net(X).flatten()\n",
    "        loss = criterion(y_pred, y_exact)\n",
    "        if e % 10 == 0:\n",
    "            print(f\"epoch: {e}, loss: {loss}\")\n",
    "        \n",
    "        optim.zero_grad()\n",
    "        loss.backward()\n",
    "        optim.step()"
   ]
  },
  {
   "cell_type": "code",
   "execution_count": 139,
   "metadata": {
    "scrolled": true
   },
   "outputs": [
    {
     "name": "stderr",
     "output_type": "stream",
     "text": [
      "/home/lurker/miniconda3/envs/torch_dde_q/lib/python3.9/site-packages/pennylane/tape/qscript.py:569: UserWarning: The get_operation will soon be updated to also return the index of the trainable operation in the tape. If you want to switch to the new behavior, you can pass `return_op_index=True`\n",
      "  warnings.warn(\n"
     ]
    },
    {
     "name": "stdout",
     "output_type": "stream",
     "text": [
      "epoch: 0, loss: 0.0630490630865097\n",
      "epoch: 10, loss: 0.05414396896958351\n",
      "epoch: 20, loss: 0.045505307614803314\n",
      "epoch: 30, loss: 0.03687801584601402\n",
      "epoch: 40, loss: 0.027832720428705215\n",
      "epoch: 50, loss: 0.017480410635471344\n",
      "epoch: 60, loss: 0.006998045369982719\n",
      "epoch: 70, loss: 0.005178845953196287\n",
      "epoch: 80, loss: 0.0024565390776842833\n",
      "epoch: 90, loss: 0.0016174123156815767\n"
     ]
    }
   ],
   "source": [
    "fit(net, f)"
   ]
  },
  {
   "cell_type": "code",
   "execution_count": 141,
   "metadata": {},
   "outputs": [
    {
     "name": "stderr",
     "output_type": "stream",
     "text": [
      "/home/lurker/miniconda3/envs/torch_dde_q/lib/python3.9/site-packages/pennylane/tape/qscript.py:569: UserWarning: The get_operation will soon be updated to also return the index of the trainable operation in the tape. If you want to switch to the new behavior, you can pass `return_op_index=True`\n",
      "  warnings.warn(\n"
     ]
    },
    {
     "data": {
      "image/png": "[encoded data removed]",
      "text/plain": [
       "<Figure size 640x480 with 1 Axes>"
      ]
     },
     "metadata": {},
     "output_type": "display_data"
    }
   ],
   "source": [
    "plot(net, f)"
   ]
  },
  {
   "cell_type": "code",
   "execution_count": 145,
   "metadata": {},
   "outputs": [
    {
     "data": {
      "text/plain": [
       "Parameter containing:\n",
       "tensor([[-2.3395]], requires_grad=True)"
      ]
     },
     "execution_count": 145,
     "metadata": {},
     "output_type": "execute_result"
    }
   ],
   "source": [
    "net._modules[\"dec\"].weight"
   ]
  },
  {
   "cell_type": "code",
   "execution_count": null,
   "metadata": {},
   "outputs": [],
   "source": []
  }
 ],
 "metadata": {
  "kernelspec": {
   "display_name": "Python 3 (ipykernel)",
   "language": "python",
   "name": "python3"
  },
  "language_info": {
   "codemirror_mode": {
    "name": "ipython",
    "version": 3
   },
   "file_extension": ".py",
   "mimetype": "text/x-python",
   "name": "python",
   "nbconvert_exporter": "python",
   "pygments_lexer": "ipython3",
   "version": "3.9.16"
  }
 },
 "nbformat": 4,
 "nbformat_minor": 2
}
