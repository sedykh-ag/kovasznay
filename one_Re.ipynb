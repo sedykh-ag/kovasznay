{
 "cells": [
  {
   "cell_type": "code",
   "execution_count": 1,
   "metadata": {},
   "outputs": [
    {
     "name": "stderr",
     "output_type": "stream",
     "text": [
      "Using backend: pytorch\n",
      "\n"
     ]
    }
   ],
   "source": [
    "import deepxde as dde\n",
    "import torch\n",
    "import numpy as np\n",
    "import matplotlib.pyplot as plt\n",
    "\n",
    "device = torch.device(\"cuda\")"
   ]
  },
  {
   "cell_type": "code",
   "execution_count": 2,
   "metadata": {},
   "outputs": [],
   "source": [
    "Re = 20\n",
    "nu = 1 / Re\n",
    "l = 1 / (2 * nu) - np.sqrt(1 / (4 * nu ** 2) + 4 * np.pi ** 2)"
   ]
  },
  {
   "cell_type": "code",
   "execution_count": 3,
   "metadata": {},
   "outputs": [],
   "source": [
    "def pde(x, u):\n",
    "    u_vel, v_vel, p = u[:, 0:1], u[:, 1:2], u[:, 2:]\n",
    "    u_vel_x = dde.grad.jacobian(u, x, i=0, j=0)\n",
    "    u_vel_y = dde.grad.jacobian(u, x, i=0, j=1)\n",
    "    u_vel_xx = dde.grad.hessian(u, x, component=0, i=0, j=0)\n",
    "    u_vel_yy = dde.grad.hessian(u, x, component=0, i=1, j=1)\n",
    "\n",
    "    v_vel_x = dde.grad.jacobian(u, x, i=1, j=0)\n",
    "    v_vel_y = dde.grad.jacobian(u, x, i=1, j=1)\n",
    "    v_vel_xx = dde.grad.hessian(u, x, component=1, i=0, j=0)\n",
    "    v_vel_yy = dde.grad.hessian(u, x, component=1, i=1, j=1)\n",
    "\n",
    "    p_x = dde.grad.jacobian(u, x, i=2, j=0)\n",
    "    p_y = dde.grad.jacobian(u, x, i=2, j=1)\n",
    "\n",
    "    momentum_x = (\n",
    "        u_vel * u_vel_x + v_vel * u_vel_y + p_x - 1 / Re * (u_vel_xx + u_vel_yy)\n",
    "    )\n",
    "    momentum_y = (\n",
    "        u_vel * v_vel_x + v_vel * v_vel_y + p_y - 1 / Re * (v_vel_xx + v_vel_yy)\n",
    "    )\n",
    "    continuity = u_vel_x + v_vel_y\n",
    "\n",
    "    return [momentum_x, momentum_y, continuity]"
   ]
  },
  {
   "cell_type": "code",
   "execution_count": 4,
   "metadata": {},
   "outputs": [],
   "source": [
    "def u_func(x):\n",
    "    return 1 - np.exp(l * x[:, 0:1]) * np.cos(2 * np.pi * x[:, 1:2])\n",
    "\n",
    "\n",
    "def v_func(x):\n",
    "    return l / (2 * np.pi) * np.exp(l * x[:, 0:1]) * np.sin(2 * np.pi * x[:, 1:2])\n",
    "\n",
    "\n",
    "def p_func(x):\n",
    "    return 1 / 2 * (1 - np.exp(2 * l * x[:, 0:1]))"
   ]
  },
  {
   "cell_type": "code",
   "execution_count": 5,
   "metadata": {},
   "outputs": [],
   "source": [
    "def boundary_outflow(x, on_boundary):\n",
    "    return on_boundary and np.isclose(x[0], 1)"
   ]
  },
  {
   "cell_type": "code",
   "execution_count": 6,
   "metadata": {},
   "outputs": [
    {
     "name": "stdout",
     "output_type": "stream",
     "text": [
      "Warning: 100000 points required, but 100284 points sampled.\n"
     ]
    }
   ],
   "source": [
    "spatial_domain = dde.geometry.Rectangle(xmin=[-0.5, -0.5], xmax=[1, 1.5])\n",
    "\n",
    "boundary_condition_u = dde.icbc.DirichletBC(\n",
    "    spatial_domain, u_func, lambda _, on_boundary: on_boundary, component=0\n",
    ")\n",
    "boundary_condition_v = dde.icbc.DirichletBC(\n",
    "    spatial_domain, v_func, lambda _, on_boundary: on_boundary, component=1\n",
    ")\n",
    "boundary_condition_right_p = dde.icbc.DirichletBC(\n",
    "    spatial_domain, p_func, boundary_outflow, component=2\n",
    ")\n",
    "\n",
    "data = dde.data.PDE(\n",
    "    spatial_domain,\n",
    "    pde,\n",
    "    [boundary_condition_u, boundary_condition_v, boundary_condition_right_p],\n",
    "    num_domain=2601,\n",
    "    num_boundary=400,\n",
    "    num_test=100000,\n",
    ")"
   ]
  },
  {
   "cell_type": "code",
   "execution_count": 7,
   "metadata": {},
   "outputs": [],
   "source": [
    "net = dde.nn.FNN([2] + 4 * [50] + [3], \"tanh\", \"Glorot normal\")"
   ]
  },
  {
   "cell_type": "code",
   "execution_count": 8,
   "metadata": {},
   "outputs": [],
   "source": [
    "model = dde.Model(data, net)"
   ]
  },
  {
   "cell_type": "code",
   "execution_count": 23,
   "metadata": {},
   "outputs": [
    {
     "name": "stdout",
     "output_type": "stream",
     "text": [
      "Compiling model...\n",
      "'compile' took 0.000338 s\n",
      "\n",
      "Restoring model from model/model.ckpt-19000.pt ...\n",
      "\n"
     ]
    }
   ],
   "source": [
    "# restore\n",
    "model.compile(\"adam\", lr=1e-3)\n",
    "model.restore(save_path=\"model/model.ckpt-19000.pt\", verbose=1)"
   ]
  },
  {
   "cell_type": "code",
   "execution_count": 9,
   "metadata": {},
   "outputs": [
    {
     "name": "stdout",
     "output_type": "stream",
     "text": [
      "Compiling model...\n",
      "'compile' took 0.000225 s\n",
      "\n",
      "Training model...\n",
      "\n",
      "Step      Train loss                                                      Test loss                                                       Test metric\n",
      "0         [1.38e-01, 2.38e-02, 8.75e-01, 4.03e+00, 2.07e-01, 1.05e-01]    [1.42e-01, 2.47e-02, 8.95e-01, 4.03e+00, 2.07e-01, 1.05e-01]    []  \n",
      "Epoch 1: train loss improved from inf to 5.38e+00, saving model to model/model.ckpt-1.pt ...\n",
      "\n"
     ]
    }
   ],
   "source": [
    "# train with adam\n",
    "model.compile(\"adam\", lr=1e-3)\n",
    "checkpointer = dde.callbacks.ModelCheckpoint(\"model/model.ckpt\",\n",
    "                                             verbose=1,\n",
    "                                             save_better_only=True)\n",
    "losshistory, train_state = model.train(iterations=30000, callbacks=[checkpointer])"
   ]
  },
  {
   "cell_type": "code",
   "execution_count": null,
   "metadata": {},
   "outputs": [],
   "source": [
    "dde.utils.external.save_loss_history(loss_history=losshistory, fname=\"losses/loss\")\n",
    "dde.utils.external.plot_loss_history(loss_history=losshistory)"
   ]
  },
  {
   "cell_type": "code",
   "execution_count": 29,
   "metadata": {},
   "outputs": [
    {
     "name": "stdout",
     "output_type": "stream",
     "text": [
      "Warning: 100000 points required, but 100284 points sampled.\n",
      "Mean residual: 0.008069737\n",
      "L2 relative error in u: 0.009478379\n",
      "L2 relative error in v: 0.025552198\n",
      "L2 relative error in p: 0.008889952\n"
     ]
    }
   ],
   "source": [
    "X = spatial_domain.uniform_points(100000)\n",
    "output = model.predict(X)\n",
    "u_pred = output[:, 0]\n",
    "v_pred = output[:, 1]\n",
    "p_pred = output[:, 2]\n",
    "\n",
    "u_exact = u_func(X).reshape(-1)\n",
    "v_exact = v_func(X).reshape(-1)\n",
    "p_exact = p_func(X).reshape(-1)\n",
    "\n",
    "f = model.predict(X, operator=pde)\n",
    "\n",
    "l2_difference_u = dde.metrics.l2_relative_error(u_exact, u_pred)\n",
    "l2_difference_v = dde.metrics.l2_relative_error(v_exact, v_pred)\n",
    "l2_difference_p = dde.metrics.l2_relative_error(p_exact, p_pred)\n",
    "residual = np.mean(np.absolute(f))\n",
    "\n",
    "print(\"Mean residual:\", residual)\n",
    "print(\"L2 relative error in u:\", l2_difference_u)\n",
    "print(\"L2 relative error in v:\", l2_difference_v)\n",
    "print(\"L2 relative error in p:\", l2_difference_p)"
   ]
  },
  {
   "cell_type": "code",
   "execution_count": 32,
   "metadata": {},
   "outputs": [
    {
     "data": {
      "image/png": "[encoded data removed]",
      "text/plain": [
       "<Figure size 640x480 with 2 Axes>"
      ]
     },
     "metadata": {},
     "output_type": "display_data"
    }
   ],
   "source": [
    "plt.scatter(X[:, 0], X[:, 1], c=p_pred, s=5)\n",
    "plt.colorbar()\n",
    "plt.show()"
   ]
  },
  {
   "cell_type": "code",
   "execution_count": 33,
   "metadata": {},
   "outputs": [
    {
     "ename": "NameError",
     "evalue": "name 'losshistory' is not defined",
     "output_type": "error",
     "traceback": [
      "\u001b[0;31m---------------------------------------------------------------------------\u001b[0m",
      "\u001b[0;31mNameError\u001b[0m                                 Traceback (most recent call last)",
      "Cell \u001b[0;32mIn[33], line 1\u001b[0m\n\u001b[0;32m----> 1\u001b[0m plt\u001b[39m.\u001b[39mplot(losshistory)\n",
      "\u001b[0;31mNameError\u001b[0m: name 'losshistory' is not defined"
     ]
    }
   ],
   "source": [
    "plt.plot(losshistory)"
   ]
  },
  {
   "cell_type": "code",
   "execution_count": 35,
   "metadata": {},
   "outputs": [],
   "source": [
    "ckpt = torch.load(\"model/model.ckpt-19000.pt\")"
   ]
  },
  {
   "cell_type": "code",
   "execution_count": 38,
   "metadata": {},
   "outputs": [
    {
     "data": {
      "text/plain": [
       "dict_keys(['model_state_dict', 'optimizer_state_dict'])"
      ]
     },
     "execution_count": 38,
     "metadata": {},
     "output_type": "execute_result"
    }
   ],
   "source": [
    "ckpt.keys()"
   ]
  },
  {
   "cell_type": "code",
   "execution_count": null,
   "metadata": {},
   "outputs": [],
   "source": []
  }
 ],
 "metadata": {
  "kernelspec": {
   "display_name": "deepxde_env",
   "language": "python",
   "name": "python3"
  },
  "language_info": {
   "codemirror_mode": {
    "name": "ipython",
    "version": 3
   },
   "file_extension": ".py",
   "mimetype": "text/x-python",
   "name": "python",
   "nbconvert_exporter": "python",
   "pygments_lexer": "ipython3",
   "version": "3.9.16"
  },
  "orig_nbformat": 4
 },
 "nbformat": 4,
 "nbformat_minor": 2
}
