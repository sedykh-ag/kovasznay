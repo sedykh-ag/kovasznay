{
 "cells": [
  {
   "cell_type": "code",
   "execution_count": 1,
   "metadata": {},
   "outputs": [
    {
     "name": "stderr",
     "output_type": "stream",
     "text": [
      "Using backend: pytorch\n",
      "\n"
     ]
    }
   ],
   "source": [
    "import deepxde as dde\n",
    "import torch\n",
    "import numpy as np\n",
    "import matplotlib.pyplot as plt\n",
    "\n",
    "import pyvista as pv\n",
    "pv.set_jupyter_backend(\"static\")\n",
    "\n",
    "device = torch.device(\"cuda\")"
   ]
  },
  {
   "cell_type": "code",
   "execution_count": null,
   "metadata": {},
   "outputs": [],
   "source": [
    "def show_solution(u_func):\n",
    "    # Input: scalar \"u\" to be displayed\n",
    "    grid = pv.UniformGrid(dimensions=(150, 200, 1),\n",
    "                          origin=(-0.5, -0.5, 0),\n",
    "                          spacing=(0.01, 0.01, 0.01))\n",
    "    \n",
    "    u = u_func(grid.points)\n",
    "\n",
    "    grid.point_data[\"u\"] = u.flatten(order=\"F\")\n",
    "    \n",
    "    plotter = pv.Plotter()\n",
    "    plotter.add_mesh(grid)\n",
    "    plotter.view_xy()\n",
    "    plotter.show()"
   ]
  },
  {
   "cell_type": "code",
   "execution_count": 7,
   "metadata": {},
   "outputs": [],
   "source": [
    "Re = 20\n",
    "nu = 1 / Re\n",
    "l = 1 / (2 * nu) - np.sqrt(1 / (4 * nu ** 2) + 4 * np.pi ** 2)"
   ]
  },
  {
   "cell_type": "code",
   "execution_count": 8,
   "metadata": {},
   "outputs": [],
   "source": [
    "def u_func(x):\n",
    "    return 1 - np.exp(l * x[:, 0:1]) * np.cos(2 * np.pi * x[:, 1:2])\n",
    "\n",
    "\n",
    "def v_func(x):\n",
    "    return l / (2 * np.pi) * np.exp(l * x[:, 0:1]) * np.sin(2 * np.pi * x[:, 1:2])\n",
    "\n",
    "\n",
    "def p_func(x):\n",
    "    return 1 / 2 * (1 - np.exp(2 * l * x[:, 0:1]))"
   ]
  },
  {
   "cell_type": "code",
   "execution_count": 5,
   "metadata": {},
   "outputs": [],
   "source": [
    "def pde(x, u):\n",
    "    u_vel, v_vel, p = u[:, 0:1], u[:, 1:2], u[:, 2:]\n",
    "    u_vel_x = dde.grad.jacobian(u, x, i=0, j=0)\n",
    "    u_vel_y = dde.grad.jacobian(u, x, i=0, j=1)\n",
    "    u_vel_xx = dde.grad.hessian(u, x, component=0, i=0, j=0)\n",
    "    u_vel_yy = dde.grad.hessian(u, x, component=0, i=1, j=1)\n",
    "\n",
    "    v_vel_x = dde.grad.jacobian(u, x, i=1, j=0)\n",
    "    v_vel_y = dde.grad.jacobian(u, x, i=1, j=1)\n",
    "    v_vel_xx = dde.grad.hessian(u, x, component=1, i=0, j=0)\n",
    "    v_vel_yy = dde.grad.hessian(u, x, component=1, i=1, j=1)\n",
    "\n",
    "    p_x = dde.grad.jacobian(u, x, i=2, j=0)\n",
    "    p_y = dde.grad.jacobian(u, x, i=2, j=1)\n",
    "\n",
    "    momentum_x = (\n",
    "        u_vel * u_vel_x + v_vel * u_vel_y + p_x - 1 / Re * (u_vel_xx + u_vel_yy)\n",
    "    )\n",
    "    momentum_y = (\n",
    "        u_vel * v_vel_x + v_vel * v_vel_y + p_y - 1 / Re * (v_vel_xx + v_vel_yy)\n",
    "    )\n",
    "    continuity = u_vel_x + v_vel_y\n",
    "\n",
    "    return [momentum_x, momentum_y, continuity]"
   ]
  },
  {
   "cell_type": "code",
   "execution_count": 5,
   "metadata": {},
   "outputs": [],
   "source": [
    "sudo apt-get install libgl1-mesa-dridef boundary_outflow(x, on_boundary):\n",
    "    return on_boundary and np.isclose(x[0], 1)"
   ]
  },
  {
   "cell_type": "code",
   "execution_count": 6,
   "metadata": {},
   "outputs": [
    {
     "name": "stdout",
     "output_type": "stream",
     "text": [
      "Warning: 100000 points required, but 100284 points sampled.\n"
     ]
    }
   ],
   "source": [
    "spatial_domain = dde.geometry.Rectangle(xmin=[-0.5, -0.5], xmax=[1, 1.5])\n",
    "\n",
    "boundary_condition_u = dde.icbc.DirichletBC(\n",
    "    spatial_domain, u_func, lambda _, on_boundary: on_boundary, component=0\n",
    ")\n",
    "boundary_condition_v = dde.icbc.DirichletBC(\n",
    "    spatial_domain, v_func, lambda _, on_boundary: on_boundary, component=1\n",
    ")\n",
    "boundary_condition_right_p = dde.icbc.DirichletBC(\n",
    "    spatial_domain, p_func, boundary_outflow, component=2\n",
    ")\n",
    "\n",
    "data = dde.data.PDE(\n",
    "    spatial_domain,\n",
    "    pde,\n",
    "    [boundary_condition_u, boundary_condition_v, boundary_condition_right_p],\n",
    "    num_domain=2601,\n",
    "    num_boundary=400,\n",
    "    num_test=100000,\n",
    ")"
   ]
  },
  {
   "cell_type": "code",
   "execution_count": 7,
   "metadata": {},
   "outputs": [],
   "source": [
    "net = dde.nn.FNN([2] + 4 * [50] + [3], \"tanh\", \"Glorot normal\")"
   ]
  },
  {
   "cell_type": "code",
   "execution_count": 8,
   "metadata": {},
   "outputs": [],
   "source": [
    "model = dde.Model(data, net)"
   ]
  },
  {
   "cell_type": "code",
   "execution_count": 23,
   "metadata": {},
   "outputs": [
    {
     "name": "stdout",
     "output_type": "stream",
     "text": [
      "Compiling model...\n",
      "'compile' took 0.000338 s\n",
      "\n",
      "Restoring model from model/model.ckpt-19000.pt ...\n",
      "\n"
     ]
    }
   ],
   "source": [
    "# restore\n",
    "model.compile(\"adam\", lr=1e-3)\n",
    "model.restore(save_path=\"model/model.ckpt-19000.pt\", verbose=1)"
   ]
  },
  {
   "cell_type": "code",
   "execution_count": 9,
   "metadata": {},
   "outputs": [
    {
     "name": "stdout",
     "output_type": "stream",
     "text": [
      "Compiling model...\n",
      "'compile' took 0.000225 s\n",
      "\n",
      "Training model...\n",
      "\n",
      "Step      Train loss                                                      Test loss                                                       Test metric\n",
      "0         [1.38e-01, 2.38e-02, 8.75e-01, 4.03e+00, 2.07e-01, 1.05e-01]    [1.42e-01, 2.47e-02, 8.95e-01, 4.03e+00, 2.07e-01, 1.05e-01]    []  \n",
      "Epoch 1: train loss improved from inf to 5.38e+00, saving model to model/model.ckpt-1.pt ...\n",
      "\n",
      "1000      [2.51e-02, 8.75e-03, 1.73e-02, 5.20e-01, 5.43e-02, 9.43e-04]    [1.58e-02, 6.33e-03, 1.25e-02, 5.20e-01, 5.43e-02, 9.43e-04]    []  \n",
      "Epoch 1000: train loss improved from 5.38e+00 to 6.27e-01, saving model to model/model.ckpt-1000.pt ...\n",
      "\n",
      "2000      [6.80e-03, 2.75e-03, 3.42e-03, 1.41e-02, 4.70e-03, 2.63e-04]    [5.16e-03, 1.97e-03, 2.44e-03, 1.41e-02, 4.70e-03, 2.63e-04]    []  \n",
      "Epoch 2000: train loss improved from 6.27e-01 to 3.20e-02, saving model to model/model.ckpt-2000.pt ...\n",
      "\n",
      "3000      [5.14e-03, 1.05e-03, 1.87e-03, 4.35e-03, 1.46e-03, 1.14e-04]    [2.93e-03, 8.07e-04, 1.52e-03, 4.35e-03, 1.46e-03, 1.14e-04]    []  \n",
      "Epoch 3000: train loss improved from 3.20e-02 to 1.40e-02, saving model to model/model.ckpt-3000.pt ...\n",
      "\n",
      "4000      [7.55e-03, 9.26e-04, 9.01e-04, 2.04e-03, 7.01e-04, 3.44e-05]    [6.13e-03, 6.92e-04, 7.32e-04, 2.04e-03, 7.01e-04, 3.44e-05]    []  \n",
      "Epoch 4000: train loss improved from 1.40e-02 to 1.22e-02, saving model to model/model.ckpt-4000.pt ...\n",
      "\n",
      "5000      [9.28e-04, 2.80e-04, 5.05e-04, 6.35e-04, 3.23e-04, 1.06e-05]    [5.74e-04, 2.19e-04, 4.16e-04, 6.35e-04, 3.23e-04, 1.06e-05]    []  \n",
      "Epoch 5000: train loss improved from 1.22e-02 to 2.68e-03, saving model to model/model.ckpt-5000.pt ...\n",
      "\n",
      "6000      [6.40e-04, 2.19e-04, 3.80e-04, 4.14e-04, 1.91e-04, 4.70e-06]    [4.15e-04, 1.70e-04, 3.17e-04, 4.14e-04, 1.91e-04, 4.70e-06]    []  \n",
      "Epoch 6000: train loss improved from 2.68e-03 to 1.85e-03, saving model to model/model.ckpt-6000.pt ...\n",
      "\n",
      "7000      [7.01e-04, 2.03e-04, 3.21e-04, 3.35e-04, 1.31e-04, 3.25e-06]    [5.02e-04, 1.61e-04, 2.73e-04, 3.35e-04, 1.31e-04, 3.25e-06]    []  \n",
      "Epoch 7000: train loss improved from 1.85e-03 to 1.70e-03, saving model to model/model.ckpt-7000.pt ...\n",
      "\n",
      "8000      [1.18e-03, 2.25e-04, 4.28e-04, 3.08e-04, 9.55e-05, 3.41e-06]    [1.05e-03, 1.81e-04, 3.78e-04, 3.08e-04, 9.55e-05, 3.41e-06]    []  \n",
      "9000      [3.13e-04, 1.47e-04, 2.35e-04, 2.16e-04, 8.61e-05, 2.80e-06]    [2.16e-04, 1.13e-04, 1.98e-04, 2.16e-04, 8.61e-05, 2.80e-06]    []  \n",
      "Epoch 9000: train loss improved from 1.70e-03 to 9.99e-04, saving model to model/model.ckpt-9000.pt ...\n",
      "\n",
      "10000     [2.69e-04, 1.32e-04, 2.10e-04, 1.91e-04, 7.74e-05, 2.77e-06]    [1.90e-04, 1.02e-04, 1.76e-04, 1.91e-04, 7.74e-05, 2.77e-06]    []  \n",
      "Epoch 10000: train loss improved from 9.99e-04 to 8.81e-04, saving model to model/model.ckpt-10000.pt ...\n",
      "\n",
      "11000     [3.48e-04, 1.34e-04, 1.87e-04, 1.94e-04, 7.83e-05, 2.44e-06]    [2.61e-04, 1.04e-04, 1.63e-04, 1.94e-04, 7.83e-05, 2.44e-06]    []  \n",
      "12000     [1.86e-03, 1.67e-04, 3.54e-04, 3.38e-04, 7.52e-05, 3.35e-06]    [1.36e-03, 1.30e-04, 3.27e-04, 3.38e-04, 7.52e-05, 3.35e-06]    []  \n",
      "13000     [1.29e-02, 1.28e-03, 2.21e-03, 8.10e-04, 1.61e-04, 3.69e-06]    [1.12e-02, 9.98e-04, 2.21e-03, 8.10e-04, 1.61e-04, 3.69e-06]    []  \n",
      "14000     [2.98e-03, 1.61e-04, 5.52e-04, 4.01e-04, 5.87e-05, 5.25e-06]    [2.41e-03, 1.29e-04, 5.16e-04, 4.01e-04, 5.87e-05, 5.25e-06]    []  \n",
      "15000     [9.75e-04, 1.91e-04, 1.89e-04, 2.30e-04, 5.06e-05, 3.07e-06]    [8.93e-04, 1.49e-04, 1.72e-04, 2.30e-04, 5.06e-05, 3.07e-06]    []  \n",
      "16000     [3.76e-04, 9.19e-05, 1.54e-04, 2.73e-04, 5.54e-05, 2.59e-06]    [3.30e-04, 7.52e-05, 1.39e-04, 2.73e-04, 5.54e-05, 2.59e-06]    []  \n",
      "17000     [3.77e-03, 5.10e-04, 1.44e-04, 6.32e-04, 1.01e-04, 5.76e-06]    [3.37e-03, 4.26e-04, 1.21e-04, 6.32e-04, 1.01e-04, 5.76e-06]    []  \n",
      "18000     [1.46e-03, 1.16e-04, 1.22e-04, 3.16e-04, 5.74e-05, 1.38e-05]    [1.27e-03, 8.74e-05, 1.01e-04, 3.16e-04, 5.74e-05, 1.38e-05]    []  \n",
      "19000     [1.75e-04, 6.71e-05, 1.05e-04, 1.16e-04, 4.33e-05, 2.41e-06]    [1.44e-04, 5.14e-05, 8.86e-05, 1.16e-04, 4.33e-05, 2.41e-06]    []  \n",
      "Epoch 19000: train loss improved from 8.81e-04 to 5.09e-04, saving model to model/model.ckpt-19000.pt ...\n",
      "\n",
      "20000     [3.30e-04, 7.92e-05, 1.00e-04, 1.40e-04, 4.51e-05, 2.66e-06]    [2.75e-04, 6.26e-05, 8.41e-05, 1.40e-04, 4.51e-05, 2.66e-06]    []  \n",
      "21000     [1.99e-04, 7.89e-05, 9.14e-05, 1.02e-04, 4.44e-05, 1.82e-06]    [1.59e-04, 6.08e-05, 7.57e-05, 1.02e-04, 4.44e-05, 1.82e-06]    []  \n",
      "22000     [1.32e-04, 5.94e-05, 9.05e-05, 1.01e-04, 3.69e-05, 1.54e-06]    [1.08e-04, 4.52e-05, 7.74e-05, 1.01e-04, 3.69e-05, 1.54e-06]    []  \n",
      "Epoch 22000: train loss improved from 5.09e-04 to 4.22e-04, saving model to model/model.ckpt-22000.pt ...\n",
      "\n",
      "23000     [1.19e-03, 1.51e-04, 2.33e-04, 1.86e-04, 6.41e-05, 1.87e-06]    [1.00e-03, 1.13e-04, 2.24e-04, 1.86e-04, 6.41e-05, 1.87e-06]    []  \n",
      "24000     [3.57e-03, 1.69e-04, 4.91e-04, 6.12e-04, 6.52e-05, 6.16e-06]    [2.76e-03, 1.40e-04, 4.52e-04, 6.12e-04, 6.52e-05, 6.16e-06]    []  \n",
      "25000     [5.28e-04, 1.10e-04, 1.00e-04, 9.81e-05, 5.17e-05, 6.85e-06]    [4.51e-04, 8.64e-05, 8.91e-05, 9.81e-05, 5.17e-05, 6.85e-06]    []  \n",
      "26000     [4.96e-04, 6.33e-05, 1.35e-04, 1.50e-04, 3.23e-05, 1.48e-06]    [4.02e-04, 5.00e-05, 1.19e-04, 1.50e-04, 3.23e-05, 1.48e-06]    []  \n",
      "27000     [9.37e-05, 5.25e-05, 6.74e-05, 7.38e-05, 3.07e-05, 1.29e-06]    [6.89e-05, 4.07e-05, 5.65e-05, 7.38e-05, 3.07e-05, 1.29e-06]    []  \n",
      "Epoch 27000: train loss improved from 4.22e-04 to 3.19e-04, saving model to model/model.ckpt-27000.pt ...\n",
      "\n",
      "28000     [2.95e-03, 4.52e-04, 1.39e-04, 1.25e-04, 1.20e-04, 2.30e-05]    [2.68e-03, 3.54e-04, 1.27e-04, 1.25e-04, 1.20e-04, 2.30e-05]    []  \n",
      "29000     [8.29e-04, 6.85e-05, 6.84e-05, 1.32e-04, 3.84e-05, 1.16e-05]    [7.12e-04, 5.18e-05, 5.51e-05, 1.32e-04, 3.84e-05, 1.16e-05]    []  \n",
      "30000     [6.73e-03, 1.16e-03, 3.53e-04, 2.70e-04, 1.60e-04, 2.68e-05]    [6.19e-03, 9.16e-04, 3.48e-04, 2.70e-04, 1.60e-04, 2.68e-05]    []  \n",
      "\n",
      "Best model at step 27000:\n",
      "  train loss: 3.19e-04\n",
      "  test loss: 2.72e-04\n",
      "  test metric: []\n",
      "\n",
      "'train' took 622.866816 s\n",
      "\n"
     ]
    }
   ],
   "source": [
    "# train with adam\n",
    "model.compile(\"adam\", lr=1e-3)\n",
    "checkpointer = dde.callbacks.ModelCheckpoint(\"model/model.ckpt\",\n",
    "                                             verbose=1,\n",
    "                                             save_better_only=True)\n",
    "losshistory, train_state = model.train(iterations=30000, callbacks=[checkpointer])"
   ]
  },
  {
   "cell_type": "code",
   "execution_count": 27,
   "metadata": {},
   "outputs": [
    {
     "name": "stdout",
     "output_type": "stream",
     "text": [
      "Compiling model...\n",
      "'compile' took 0.001493 s\n",
      "\n",
      "Training model...\n",
      "\n",
      "Step      Train loss                                                      Test loss                                                       Test metric\n",
      "30000     [6.73e-03, 1.16e-03, 3.53e-04, 2.70e-04, 1.60e-04, 2.68e-05]    [6.19e-03, 9.16e-04, 3.48e-04, 2.70e-04, 1.60e-04, 2.68e-05]    []  \n",
      "31000     [7.53e-06, 5.55e-06, 5.28e-06, 2.57e-06, 1.86e-06, 1.09e-07]    [6.42e-06, 4.86e-06, 4.62e-06, 2.57e-06, 1.86e-06, 1.09e-07]    []  \n",
      "32000     [2.20e-06, 1.95e-06, 1.89e-06, 9.36e-07, 5.40e-07, 3.78e-08]    [1.95e-06, 1.68e-06, 1.66e-06, 9.36e-07, 5.40e-07, 3.78e-08]    []  \n",
      "33000     [1.25e-06, 1.14e-06, 1.03e-06, 5.17e-07, 2.64e-07, 1.98e-08]    [1.02e-06, 9.57e-07, 8.94e-07, 5.17e-07, 2.64e-07, 1.98e-08]    []  \n",
      "34000     [8.02e-07, 6.54e-07, 5.78e-07, 2.14e-07, 2.53e-07, 1.71e-08]    [6.68e-07, 4.94e-07, 4.64e-07, 2.14e-07, 2.53e-07, 1.71e-08]    []  \n",
      "35000     [7.88e-07, 6.52e-07, 5.76e-07, 2.13e-07, 2.52e-07, 1.75e-08]    [6.61e-07, 4.93e-07, 4.65e-07, 2.13e-07, 2.52e-07, 1.75e-08]    []  \n",
      "36000     [7.84e-07, 6.51e-07, 5.75e-07, 2.11e-07, 2.52e-07, 1.74e-08]    [6.58e-07, 4.91e-07, 4.66e-07, 2.11e-07, 2.52e-07, 1.74e-08]    []  \n",
      "37000     [7.82e-07, 6.50e-07, 5.75e-07, 2.10e-07, 2.51e-07, 1.73e-08]    [6.56e-07, 4.91e-07, 4.65e-07, 2.10e-07, 2.51e-07, 1.73e-08]    []  \n",
      "38000     [7.80e-07, 6.50e-07, 5.74e-07, 2.10e-07, 2.51e-07, 1.72e-08]    [6.55e-07, 4.90e-07, 4.65e-07, 2.10e-07, 2.51e-07, 1.72e-08]    []  \n",
      "39000     [7.78e-07, 6.50e-07, 5.73e-07, 2.09e-07, 2.51e-07, 1.71e-08]    [6.53e-07, 4.90e-07, 4.65e-07, 2.09e-07, 2.51e-07, 1.71e-08]    []  \n",
      "40000     [7.76e-07, 6.49e-07, 5.73e-07, 2.08e-07, 2.50e-07, 1.69e-08]    [6.52e-07, 4.89e-07, 4.64e-07, 2.08e-07, 2.50e-07, 1.69e-08]    []  \n",
      "41000     [7.75e-07, 6.49e-07, 5.72e-07, 2.07e-07, 2.50e-07, 1.68e-08]    [6.51e-07, 4.89e-07, 4.64e-07, 2.07e-07, 2.50e-07, 1.68e-08]    []  \n",
      "42000     [7.74e-07, 6.49e-07, 5.72e-07, 2.07e-07, 2.50e-07, 1.67e-08]    [6.50e-07, 4.88e-07, 4.64e-07, 2.07e-07, 2.50e-07, 1.67e-08]    []  \n",
      "43000     [7.73e-07, 6.48e-07, 5.71e-07, 2.06e-07, 2.50e-07, 1.66e-08]    [6.49e-07, 4.88e-07, 4.64e-07, 2.06e-07, 2.50e-07, 1.66e-08]    []  \n",
      "44000     [7.72e-07, 6.48e-07, 5.71e-07, 2.05e-07, 2.49e-07, 1.65e-08]    [6.48e-07, 4.88e-07, 4.64e-07, 2.05e-07, 2.49e-07, 1.65e-08]    []  \n",
      "45000     [7.71e-07, 6.47e-07, 5.70e-07, 2.05e-07, 2.49e-07, 1.64e-08]    [6.47e-07, 4.88e-07, 4.63e-07, 2.05e-07, 2.49e-07, 1.64e-08]    []  \n",
      "\n",
      "Best model at step 45000:\n",
      "  train loss: 2.46e-06\n",
      "  test loss: 2.07e-06\n",
      "  test metric: []\n",
      "\n",
      "'train' took 550.424571 s\n",
      "\n"
     ]
    }
   ],
   "source": [
    "model.compile(\"L-BFGS\")\n",
    "losshistory, train_state = model.train()"
   ]
  },
  {
   "cell_type": "code",
   "execution_count": 28,
   "metadata": {},
   "outputs": [
    {
     "name": "stdout",
     "output_type": "stream",
     "text": [
      "Saving loss history to losses/loss ...\n"
     ]
    },
    {
     "data": {
      "image/png": "[encoded data removed]",
      "text/plain": [
       "<Figure size 640x480 with 1 Axes>"
      ]
     },
     "metadata": {},
     "output_type": "display_data"
    }
   ],
   "source": [
    "dde.utils.external.save_loss_history(loss_history=losshistory, fname=\"losses/loss\")\n",
    "dde.utils.external.plot_loss_history(loss_history=losshistory)"
   ]
  },
  {
   "cell_type": "code",
   "execution_count": 29,
   "metadata": {},
   "outputs": [
    {
     "name": "stdout",
     "output_type": "stream",
     "text": [
      "Warning: 100000 points required, but 100284 points sampled.\n",
      "Mean residual: 0.00054120366\n",
      "L2 relative error in u: 0.00028956722\n",
      "L2 relative error in v: 0.0011574499\n",
      "L2 relative error in p: 0.00075235567\n"
     ]
    }
   ],
   "source": [
    "X = spatial_domain.uniform_points(100000)\n",
    "output = model.predict(X)\n",
    "u_pred = output[:, 0]\n",
    "v_pred = output[:, 1]\n",
    "p_pred = output[:, 2]\n",
    "\n",
    "u_exact = u_func(X).reshape(-1)\n",
    "v_exact = v_func(X).reshape(-1)\n",
    "p_exact = p_func(X).reshape(-1)\n",
    "\n",
    "f = model.predict(X, operator=pde)\n",
    "\n",
    "l2_difference_u = dde.metrics.l2_relative_error(u_exact, u_pred)\n",
    "l2_difference_v = dde.metrics.l2_relative_error(v_exact, v_pred)\n",
    "l2_difference_p = dde.metrics.l2_relative_error(p_exact, p_pred)\n",
    "residual = np.mean(np.absolute(f))\n",
    "\n",
    "print(\"Mean residual:\", residual)\n",
    "print(\"L2 relative error in u:\", l2_difference_u)\n",
    "print(\"L2 relative error in v:\", l2_difference_v)\n",
    "print(\"L2 relative error in p:\", l2_difference_p)"
   ]
  }
 ],
 "metadata": {
  "kernelspec": {
   "display_name": "Python 3 (ipykernel)",
   "language": "python",
   "name": "python3"
  },
  "language_info": {
   "codemirror_mode": {
    "name": "ipython",
    "version": 3
   },
   "file_extension": ".py",
   "mimetype": "text/x-python",
   "name": "python",
   "nbconvert_exporter": "python",
   "pygments_lexer": "ipython3",
   "version": "3.9.16"
  }
 },
 "nbformat": 4,
 "nbformat_minor": 2
}
