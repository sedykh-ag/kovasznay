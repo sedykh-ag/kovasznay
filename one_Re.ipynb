{
 "cells": [
  {
   "cell_type": "markdown",
   "metadata": {},
   "source": [
    "# Import dependencies"
   ]
  },
  {
   "cell_type": "code",
   "execution_count": 1,
   "metadata": {},
   "outputs": [
    {
     "name": "stderr",
     "output_type": "stream",
     "text": [
      "Using backend: pytorch\n",
      "\n"
     ]
    }
   ],
   "source": [
    "import os\n",
    "os.environ['DDE_BACKEND'] = \"pytorch\"\n",
    "\n",
    "import deepxde as dde\n",
    "import torch\n",
    "import numpy as np\n",
    "import matplotlib.pyplot as plt\n",
    "\n",
    "from pathlib import Path\n",
    "\n",
    "import pyvista as pv\n",
    "pv.set_jupyter_backend(\"static\")\n",
    "\n",
    "device = torch.device(\"cuda\")"
   ]
  },
  {
   "cell_type": "code",
   "execution_count": 2,
   "metadata": {},
   "outputs": [],
   "source": [
    "def show_solution(u_func):\n",
    "    # Input: scalar \"u\" to be displayed\n",
    "    grid = pv.UniformGrid(dimensions=(150, 200, 1),\n",
    "                          origin=(-0.5, -0.5, 0),\n",
    "                          spacing=(0.01, 0.01, 0.01))\n",
    "    \n",
    "    u = u_func(grid.points)\n",
    "\n",
    "    grid.point_data[\"u\"] = u.flatten(order=\"F\")\n",
    "    \n",
    "    plotter = pv.Plotter()\n",
    "    plotter.add_mesh(grid)\n",
    "    plotter.view_xy()\n",
    "    plotter.show()"
   ]
  },
  {
   "cell_type": "markdown",
   "metadata": {},
   "source": [
    "# Define governing equations"
   ]
  },
  {
   "cell_type": "code",
   "execution_count": 3,
   "metadata": {},
   "outputs": [],
   "source": [
    "Re = 20\n",
    "nu = 1 / Re\n",
    "l = 1 / (2 * nu) - np.sqrt(1 / (4 * nu ** 2) + 4 * np.pi ** 2)"
   ]
  },
  {
   "cell_type": "code",
   "execution_count": 4,
   "metadata": {},
   "outputs": [],
   "source": [
    "def u_func(x):\n",
    "    return 1 - np.exp(l * x[:, 0:1]) * np.cos(2 * np.pi * x[:, 1:2])\n",
    "\n",
    "\n",
    "def v_func(x):\n",
    "    return l / (2 * np.pi) * np.exp(l * x[:, 0:1]) * np.sin(2 * np.pi * x[:, 1:2])\n",
    "\n",
    "\n",
    "def p_func(x):\n",
    "    return 1 / 2 * (1 - np.exp(2 * l * x[:, 0:1]))"
   ]
  },
  {
   "cell_type": "code",
   "execution_count": 5,
   "metadata": {},
   "outputs": [],
   "source": [
    "def pde(x, u):\n",
    "    u_vel, v_vel, p = u[:, 0:1], u[:, 1:2], u[:, 2:]\n",
    "    u_vel_x = dde.grad.jacobian(u, x, i=0, j=0)\n",
    "    u_vel_y = dde.grad.jacobian(u, x, i=0, j=1)\n",
    "    u_vel_xx = dde.grad.hessian(u, x, component=0, i=0, j=0)\n",
    "    u_vel_yy = dde.grad.hessian(u, x, component=0, i=1, j=1)\n",
    "\n",
    "    v_vel_x = dde.grad.jacobian(u, x, i=1, j=0)\n",
    "    v_vel_y = dde.grad.jacobian(u, x, i=1, j=1)\n",
    "    v_vel_xx = dde.grad.hessian(u, x, component=1, i=0, j=0)\n",
    "    v_vel_yy = dde.grad.hessian(u, x, component=1, i=1, j=1)\n",
    "\n",
    "    p_x = dde.grad.jacobian(u, x, i=2, j=0)\n",
    "    p_y = dde.grad.jacobian(u, x, i=2, j=1)\n",
    "\n",
    "    momentum_x = (\n",
    "        u_vel * u_vel_x + v_vel * u_vel_y + p_x - 1 / Re * (u_vel_xx + u_vel_yy)\n",
    "    )\n",
    "    momentum_y = (\n",
    "        u_vel * v_vel_x + v_vel * v_vel_y + p_y - 1 / Re * (v_vel_xx + v_vel_yy)\n",
    "    )\n",
    "    continuity = u_vel_x + v_vel_y\n",
    "\n",
    "    return [momentum_x, momentum_y, continuity]"
   ]
  },
  {
   "cell_type": "markdown",
   "metadata": {},
   "source": [
    "# Define BC"
   ]
  },
  {
   "cell_type": "code",
   "execution_count": 6,
   "metadata": {},
   "outputs": [],
   "source": [
    "def boundary_outflow(x, on_boundary):\n",
    "    return on_boundary and np.isclose(x[0], 1)"
   ]
  },
  {
   "cell_type": "code",
   "execution_count": 7,
   "metadata": {},
   "outputs": [
    {
     "name": "stdout",
     "output_type": "stream",
     "text": [
      "Warning: 100000 points required, but 100284 points sampled.\n"
     ]
    }
   ],
   "source": [
    "spatial_domain = dde.geometry.Rectangle(xmin=[-0.5, -0.5], xmax=[1, 1.5])\n",
    "\n",
    "boundary_condition_u = dde.icbc.DirichletBC(\n",
    "    spatial_domain, u_func, lambda _, on_boundary: on_boundary, component=0\n",
    ")\n",
    "boundary_condition_v = dde.icbc.DirichletBC(\n",
    "    spatial_domain, v_func, lambda _, on_boundary: on_boundary, component=1\n",
    ")\n",
    "boundary_condition_right_p = dde.icbc.DirichletBC(\n",
    "    spatial_domain, p_func, boundary_outflow, component=2\n",
    ")\n",
    "\n",
    "data = dde.data.PDE(\n",
    "    spatial_domain,\n",
    "    pde,\n",
    "    [boundary_condition_u, boundary_condition_v, boundary_condition_right_p],\n",
    "    num_domain=2601,\n",
    "    num_boundary=400,\n",
    "    num_test=100000,\n",
    ")"
   ]
  },
  {
   "cell_type": "markdown",
   "metadata": {},
   "source": [
    "# Network"
   ]
  },
  {
   "cell_type": "code",
   "execution_count": 8,
   "metadata": {},
   "outputs": [
    {
     "ename": "TypeError",
     "evalue": "__init__() missing 1 required positional argument: 'kernel_initializer'",
     "output_type": "error",
     "traceback": [
      "\u001b[0;31m---------------------------------------------------------------------------\u001b[0m",
      "\u001b[0;31mTypeError\u001b[0m                                 Traceback (most recent call last)",
      "Cell \u001b[0;32mIn[8], line 1\u001b[0m\n\u001b[0;32m----> 1\u001b[0m net \u001b[38;5;241m=\u001b[39m \u001b[43mdde\u001b[49m\u001b[38;5;241;43m.\u001b[39;49m\u001b[43mnn\u001b[49m\u001b[38;5;241;43m.\u001b[39;49m\u001b[43mFNN\u001b[49m\u001b[43m(\u001b[49m\u001b[43m[\u001b[49m\u001b[38;5;241;43m2\u001b[39;49m\u001b[43m]\u001b[49m\u001b[43m \u001b[49m\u001b[38;5;241;43m+\u001b[39;49m\u001b[43m \u001b[49m\u001b[38;5;241;43m4\u001b[39;49m\u001b[43m \u001b[49m\u001b[38;5;241;43m*\u001b[39;49m\u001b[43m \u001b[49m\u001b[43m[\u001b[49m\u001b[38;5;241;43m50\u001b[39;49m\u001b[43m]\u001b[49m\u001b[43m \u001b[49m\u001b[38;5;241;43m+\u001b[39;49m\u001b[43m \u001b[49m\u001b[43m[\u001b[49m\u001b[38;5;241;43m3\u001b[39;49m\u001b[43m]\u001b[49m\u001b[43m,\u001b[49m\u001b[43m \u001b[49m\u001b[38;5;124;43m\"\u001b[39;49m\u001b[38;5;124;43mtanh\u001b[39;49m\u001b[38;5;124;43m\"\u001b[39;49m\u001b[43m)\u001b[49m\n",
      "\u001b[0;31mTypeError\u001b[0m: __init__() missing 1 required positional argument: 'kernel_initializer'"
     ]
    }
   ],
   "source": [
    "net = dde.nn.FNN([2] + 4 * [50] + [3], \"tanh\", \"Glorot normal\")"
   ]
  },
  {
   "cell_type": "code",
   "execution_count": 9,
   "metadata": {},
   "outputs": [],
   "source": [
    "model = dde.Model(data, net)"
   ]
  },
  {
   "cell_type": "code",
   "execution_count": 16,
   "metadata": {},
   "outputs": [
    {
     "data": {
      "text/plain": [
       "True"
      ]
     },
     "execution_count": 16,
     "metadata": {},
     "output_type": "execute_result"
    }
   ],
   "source": [
    "net._output_transform is None"
   ]
  },
  {
   "cell_type": "markdown",
   "metadata": {},
   "source": [
    "# Train Adam"
   ]
  },
  {
   "cell_type": "code",
   "execution_count": 14,
   "metadata": {},
   "outputs": [],
   "source": [
    "ckpt_path = Path(\"models/onlyadam/ckpt\")\n",
    "ckpt_path.mkdir(parents=True, exist_ok=True)\n",
    "\n",
    "loss_path = Path(\"models/onlyadam/loss\")\n",
    "loss_path.mkdir(parents=True, exist_ok=True)"
   ]
  },
  {
   "cell_type": "code",
   "execution_count": 10,
   "metadata": {
    "scrolled": true
   },
   "outputs": [
    {
     "name": "stdout",
     "output_type": "stream",
     "text": [
      "Compiling model...\n",
      "'compile' took 0.000168 s\n",
      "\n",
      "Training model...\n",
      "\n",
      "Step      Train loss                                                      Test loss                                                       Test metric\n",
      "0         [2.50e-02, 6.12e-02, 5.07e-02, 2.95e+00, 1.78e-01, 8.51e-02]    [2.50e-02, 6.19e-02, 5.16e-02, 2.95e+00, 1.78e-01, 8.51e-02]    []  \n",
      "Epoch 1: train loss improved from inf to 3.35e+00, saving model to models/onlyadam/ckpt-1.pt ...\n",
      "\n",
      "1000      [1.82e-02, 6.40e-03, 7.37e-03, 7.12e-02, 2.78e-02, 4.37e-04]    [1.27e-02, 4.32e-03, 5.88e-03, 7.12e-02, 2.78e-02, 4.37e-04]    []  \n",
      "Epoch 1000: train loss improved from 3.35e+00 to 1.31e-01, saving model to models/onlyadam/ckpt-1000.pt ...\n",
      "\n",
      "2000      [6.07e-03, 4.23e-03, 3.21e-03, 2.59e-02, 1.18e-02, 4.19e-04]    [4.02e-03, 2.82e-03, 2.43e-03, 2.59e-02, 1.18e-02, 4.19e-04]    []  \n",
      "Epoch 2000: train loss improved from 1.31e-01 to 5.16e-02, saving model to models/onlyadam/ckpt-2000.pt ...\n",
      "\n",
      "3000      [6.73e-03, 3.50e-03, 2.31e-03, 1.25e-02, 5.13e-03, 3.12e-04]    [4.52e-03, 2.40e-03, 1.68e-03, 1.25e-02, 5.13e-03, 3.12e-04]    []  \n",
      "Epoch 3000: train loss improved from 5.16e-02 to 3.05e-02, saving model to models/onlyadam/ckpt-3000.pt ...\n",
      "\n",
      "4000      [3.25e-03, 2.22e-03, 1.45e-03, 6.09e-03, 2.67e-03, 1.61e-04]    [2.34e-03, 1.53e-03, 1.11e-03, 6.09e-03, 2.67e-03, 1.61e-04]    []  \n",
      "Epoch 4000: train loss improved from 3.05e-02 to 1.58e-02, saving model to models/onlyadam/ckpt-4000.pt ...\n",
      "\n",
      "5000      [8.08e-03, 1.33e-03, 1.18e-03, 3.21e-03, 1.39e-03, 5.68e-05]    [6.65e-03, 9.95e-04, 1.04e-03, 3.21e-03, 1.39e-03, 5.68e-05]    []  \n",
      "Epoch 5000: train loss improved from 1.58e-02 to 1.53e-02, saving model to models/onlyadam/ckpt-5000.pt ...\n",
      "\n",
      "6000      [1.28e-03, 5.69e-04, 7.19e-04, 1.23e-03, 6.24e-04, 2.60e-05]    [8.82e-04, 4.15e-04, 6.45e-04, 1.23e-03, 6.24e-04, 2.60e-05]    []  \n",
      "Epoch 6000: train loss improved from 1.53e-02 to 4.46e-03, saving model to models/onlyadam/ckpt-6000.pt ...\n",
      "\n",
      "7000      [2.12e-03, 4.07e-04, 6.10e-04, 7.78e-04, 3.48e-04, 1.43e-05]    [1.66e-03, 3.03e-04, 5.23e-04, 7.78e-04, 3.48e-04, 1.43e-05]    []  \n",
      "Epoch 7000: train loss improved from 4.46e-03 to 4.27e-03, saving model to models/onlyadam/ckpt-7000.pt ...\n",
      "\n",
      "8000      [1.71e-03, 3.21e-04, 6.13e-04, 5.25e-04, 2.04e-04, 1.02e-05]    [1.36e-03, 2.37e-04, 5.36e-04, 5.25e-04, 2.04e-04, 1.02e-05]    []  \n",
      "Epoch 8000: train loss improved from 4.27e-03 to 3.38e-03, saving model to models/onlyadam/ckpt-8000.pt ...\n",
      "\n",
      "9000      [2.60e-03, 3.15e-04, 4.31e-04, 6.11e-04, 2.25e-04, 1.48e-05]    [2.20e-03, 2.52e-04, 3.69e-04, 6.11e-04, 2.25e-04, 1.48e-05]    []  \n",
      "10000     [1.56e-02, 5.34e-04, 1.10e-03, 1.95e-03, 2.90e-04, 1.06e-05]    [1.25e-02, 4.54e-04, 1.08e-03, 1.95e-03, 2.90e-04, 1.06e-05]    []  \n",
      "11000     [2.09e-02, 1.95e-03, 1.56e-03, 1.17e-03, 6.47e-04, 1.45e-04]    [1.79e-02, 1.53e-03, 1.44e-03, 1.17e-03, 6.47e-04, 1.45e-04]    []  \n",
      "12000     [4.24e-04, 1.49e-04, 2.82e-04, 3.25e-04, 1.54e-04, 5.73e-06]    [3.06e-04, 1.28e-04, 2.52e-04, 3.25e-04, 1.54e-04, 5.73e-06]    []  \n",
      "Epoch 12000: train loss improved from 3.38e-03 to 1.34e-03, saving model to models/onlyadam/ckpt-12000.pt ...\n",
      "\n",
      "13000     [1.13e-03, 1.75e-04, 2.77e-04, 2.67e-04, 9.76e-05, 8.97e-06]    [9.69e-04, 1.38e-04, 2.48e-04, 2.67e-04, 9.76e-05, 8.97e-06]    []  \n",
      "14000     [1.33e-03, 1.92e-04, 4.31e-04, 2.65e-04, 1.06e-04, 8.42e-06]    [1.10e-03, 1.61e-04, 4.06e-04, 2.65e-04, 1.06e-04, 8.42e-06]    []  \n",
      "15000     [2.37e-03, 3.63e-04, 2.18e-04, 2.02e-04, 1.47e-04, 9.46e-06]    [2.17e-03, 3.03e-04, 1.93e-04, 2.02e-04, 1.47e-04, 9.46e-06]    []  \n",
      "16000     [2.21e-03, 3.11e-04, 2.38e-04, 2.06e-04, 1.44e-04, 1.68e-05]    [1.95e-03, 2.55e-04, 2.07e-04, 2.06e-04, 1.44e-04, 1.68e-05]    []  \n",
      "17000     [7.43e-04, 1.12e-04, 2.60e-04, 1.55e-04, 6.94e-05, 3.59e-06]    [5.67e-04, 9.78e-05, 2.40e-04, 1.55e-04, 6.94e-05, 3.59e-06]    []  \n",
      "18000     [5.88e-04, 1.30e-04, 1.45e-04, 1.41e-04, 7.15e-05, 5.50e-06]    [5.28e-04, 1.06e-04, 1.35e-04, 1.41e-04, 7.15e-05, 5.50e-06]    []  \n",
      "Epoch 18000: train loss improved from 1.34e-03 to 1.08e-03, saving model to models/onlyadam/ckpt-18000.pt ...\n",
      "\n",
      "19000     [1.49e-03, 1.62e-04, 1.92e-04, 2.75e-04, 7.03e-05, 5.39e-06]    [1.22e-03, 1.40e-04, 1.76e-04, 2.75e-04, 7.03e-05, 5.39e-06]    []  \n",
      "20000     [2.68e-03, 1.68e-04, 7.51e-04, 2.39e-04, 9.50e-05, 2.85e-06]    [2.08e-03, 1.43e-04, 7.24e-04, 2.39e-04, 9.50e-05, 2.85e-06]    []  \n",
      "21000     [4.65e-04, 9.86e-05, 1.49e-04, 1.30e-04, 5.60e-05, 4.76e-06]    [3.68e-04, 8.07e-05, 1.38e-04, 1.30e-04, 5.60e-05, 4.76e-06]    []  \n",
      "Epoch 21000: train loss improved from 1.08e-03 to 9.04e-04, saving model to models/onlyadam/ckpt-21000.pt ...\n",
      "\n",
      "22000     [1.26e-03, 2.17e-04, 2.35e-04, 1.80e-04, 8.67e-05, 5.84e-06]    [1.14e-03, 1.87e-04, 2.17e-04, 1.80e-04, 8.67e-05, 5.84e-06]    []  \n",
      "23000     [5.18e-04, 8.21e-05, 1.30e-04, 1.07e-04, 5.02e-05, 2.81e-06]    [4.15e-04, 6.99e-05, 1.23e-04, 1.07e-04, 5.02e-05, 2.81e-06]    []  \n",
      "Epoch 23000: train loss improved from 9.04e-04 to 8.90e-04, saving model to models/onlyadam/ckpt-23000.pt ...\n",
      "\n",
      "24000     [4.36e-04, 9.74e-05, 1.00e-04, 9.02e-05, 4.75e-05, 2.29e-06]    [3.66e-04, 8.21e-05, 9.18e-05, 9.02e-05, 4.75e-05, 2.29e-06]    []  \n",
      "Epoch 24000: train loss improved from 8.90e-04 to 7.74e-04, saving model to models/onlyadam/ckpt-24000.pt ...\n",
      "\n",
      "25000     [3.80e-04, 8.63e-05, 6.17e-05, 8.89e-05, 4.25e-05, 3.17e-06]    [3.32e-04, 7.08e-05, 5.47e-05, 8.89e-05, 4.25e-05, 3.17e-06]    []  \n",
      "Epoch 25000: train loss improved from 7.74e-04 to 6.62e-04, saving model to models/onlyadam/ckpt-25000.pt ...\n",
      "\n",
      "26000     [4.91e-03, 4.23e-04, 6.79e-04, 2.51e-04, 1.50e-04, 4.61e-05]    [3.97e-03, 3.36e-04, 6.42e-04, 2.51e-04, 1.50e-04, 4.61e-05]    []  \n",
      "27000     [3.72e-04, 9.01e-05, 5.83e-05, 8.06e-05, 3.99e-05, 2.65e-06]    [3.30e-04, 7.44e-05, 5.01e-05, 8.06e-05, 3.99e-05, 2.65e-06]    []  \n",
      "Epoch 27000: train loss improved from 6.62e-04 to 6.44e-04, saving model to models/onlyadam/ckpt-27000.pt ...\n",
      "\n",
      "28000     [7.58e-04, 9.38e-05, 8.04e-05, 1.17e-04, 4.99e-05, 5.65e-06]    [6.24e-04, 7.47e-05, 6.93e-05, 1.17e-04, 4.99e-05, 5.65e-06]    []  \n",
      "29000     [8.32e-04, 1.06e-04, 6.64e-05, 1.47e-04, 4.19e-05, 8.69e-06]    [7.08e-04, 9.04e-05, 5.76e-05, 1.47e-04, 4.19e-05, 8.69e-06]    []  \n",
      "30000     [2.97e-04, 8.15e-05, 8.17e-05, 5.96e-05, 3.20e-05, 2.14e-06]    [2.70e-04, 6.12e-05, 7.32e-05, 5.96e-05, 3.20e-05, 2.14e-06]    []  \n",
      "Epoch 30000: train loss improved from 6.44e-04 to 5.54e-04, saving model to models/onlyadam/ckpt-30000.pt ...\n",
      "\n",
      "\n",
      "Best model at step 30000:\n",
      "  train loss: 5.54e-04\n",
      "  test loss: 4.98e-04\n",
      "  test metric: []\n",
      "\n",
      "'train' took 542.934421 s\n",
      "\n"
     ]
    }
   ],
   "source": [
    "# train with adam\n",
    "model.compile(\"adam\", lr=1e-3)\n",
    "checkpointer = dde.callbacks.ModelCheckpoint(ckpt_path / \"ckpt\",\n",
    "                                             verbose=1,\n",
    "                                             save_better_only=True)\n",
    "\n",
    "losshistory, train_state = model.train(iterations=30000, callbacks=[checkpointer])"
   ]
  },
  {
   "cell_type": "code",
   "execution_count": 16,
   "metadata": {},
   "outputs": [
    {
     "name": "stdout",
     "output_type": "stream",
     "text": [
      "Saving loss history to models/onlyadam/loss/loss ...\n"
     ]
    },
    {
     "data": {
      "image/png": "[encoded data removed]",
      "text/plain": [
       "<Figure size 640x480 with 1 Axes>"
      ]
     },
     "metadata": {},
     "output_type": "display_data"
    }
   ],
   "source": [
    "dde.utils.external.save_loss_history(loss_history=losshistory, fname=loss_path / \"loss\")\n",
    "dde.utils.external.plot_loss_history(loss_history=losshistory)"
   ]
  },
  {
   "cell_type": "markdown",
   "metadata": {},
   "source": [
    "# Train L-BFGS"
   ]
  },
  {
   "cell_type": "code",
   "execution_count": null,
   "metadata": {},
   "outputs": [],
   "source": [
    "model.compile(\"L-BFGS\")\n",
    "losshistory, train_state = model.train()"
   ]
  },
  {
   "cell_type": "markdown",
   "metadata": {},
   "source": [
    "# Loss & Inference"
   ]
  },
  {
   "cell_type": "code",
   "execution_count": 20,
   "metadata": {},
   "outputs": [
    {
     "name": "stdout",
     "output_type": "stream",
     "text": [
      "Warning: 100000 points required, but 100284 points sampled.\n",
      "Mean residual: 0.0079963235\n",
      "L2 relative error in u: 0.0046862364\n",
      "L2 relative error in v: 0.019253293\n",
      "L2 relative error in p: 0.006946357\n"
     ]
    }
   ],
   "source": [
    "X = spatial_domain.uniform_points(100000)\n",
    "\n",
    "output = model.predict(X)\n",
    "u_pred = output[:, 0]\n",
    "v_pred = output[:, 1]\n",
    "p_pred = output[:, 2]\n",
    "\n",
    "u_exact = u_func(X).reshape(-1)\n",
    "v_exact = v_func(X).reshape(-1)\n",
    "p_exact = p_func(X).reshape(-1)\n",
    "\n",
    "f = model.predict(X, operator=pde)\n",
    "\n",
    "l2_difference_u = dde.metrics.l2_relative_error(u_exact, u_pred)\n",
    "l2_difference_v = dde.metrics.l2_relative_error(v_exact, v_pred)\n",
    "l2_difference_p = dde.metrics.l2_relative_error(p_exact, p_pred)\n",
    "residual = np.mean(np.absolute(f))\n",
    "\n",
    "print(\"Mean residual:\", residual)\n",
    "print(\"L2 relative error in u:\", l2_difference_u)\n",
    "print(\"L2 relative error in v:\", l2_difference_v)\n",
    "print(\"L2 relative error in p:\", l2_difference_p)"
   ]
  },
  {
   "cell_type": "code",
   "execution_count": null,
   "metadata": {},
   "outputs": [],
   "source": []
  }
 ],
 "metadata": {
  "kernelspec": {
   "display_name": "Python 3 (ipykernel)",
   "language": "python",
   "name": "python3"
  },
  "language_info": {
   "codemirror_mode": {
    "name": "ipython",
    "version": 3
   },
   "file_extension": ".py",
   "mimetype": "text/x-python",
   "name": "python",
   "nbconvert_exporter": "python",
   "pygments_lexer": "ipython3",
   "version": "3.9.16"
  }
 },
 "nbformat": 4,
 "nbformat_minor": 2
}
