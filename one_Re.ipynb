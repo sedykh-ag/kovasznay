{
 "cells": [
  {
   "cell_type": "markdown",
   "metadata": {},
   "source": [
    "# Import dependencies"
   ]
  },
  {
   "cell_type": "code",
   "execution_count": 1,
   "metadata": {},
   "outputs": [
    {
     "name": "stderr",
     "output_type": "stream",
     "text": [
      "Using backend: pytorch\n",
      "\n"
     ]
    }
   ],
   "source": [
    "import os\n",
    "os.environ['DDE_BACKEND'] = \"pytorch\"\n",
    "\n",
    "import deepxde as dde\n",
    "import torch\n",
    "import numpy as np\n",
    "import matplotlib.pyplot as plt\n",
    "\n",
    "from pathlib import Path\n",
    "\n",
    "import pyvista as pv\n",
    "pv.set_jupyter_backend(\"static\")\n",
    "\n",
    "device = torch.device(\"cuda\")"
   ]
  },
  {
   "cell_type": "code",
   "execution_count": 2,
   "metadata": {},
   "outputs": [],
   "source": [
    "def show_solution(func):\n",
    "    # Input: scalar \"u\" to be displayed\n",
    "    grid = pv.UniformGrid(dimensions=(150, 200, 1),\n",
    "                          origin=(-0.5, -0.5, 0),\n",
    "                          spacing=(0.01, 0.01, 0.01))\n",
    "    \n",
    "    \n",
    "    X = grid.points[:, 0:2]\n",
    "    if isinstance(func, dde.Model) or isinstance(func, dde.nn.NN):\n",
    "        u = func.predict(X)[:, 0]\n",
    "    else:\n",
    "        u = func(X)\n",
    "        \n",
    "    grid.point_data[\"u\"] = u.flatten(order=\"F\")\n",
    "    \n",
    "    plotter = pv.Plotter()\n",
    "    plotter.add_mesh(grid)\n",
    "    plotter.view_xy()\n",
    "    plotter.show()"
   ]
  },
  {
   "cell_type": "markdown",
   "metadata": {},
   "source": [
    "# Define governing equations"
   ]
  },
  {
   "cell_type": "code",
   "execution_count": 3,
   "metadata": {},
   "outputs": [],
   "source": [
    "Re = 20\n",
    "nu = 1 / Re\n",
    "l = 1 / (2 * nu) - np.sqrt(1 / (4 * nu ** 2) + 4 * np.pi ** 2)"
   ]
  },
  {
   "cell_type": "code",
   "execution_count": 4,
   "metadata": {},
   "outputs": [],
   "source": [
    "def u_func(x):\n",
    "    return 1 - np.exp(l * x[:, 0:1]) * np.cos(2 * np.pi * x[:, 1:2])\n",
    "\n",
    "\n",
    "def v_func(x):\n",
    "    return l / (2 * np.pi) * np.exp(l * x[:, 0:1]) * np.sin(2 * np.pi * x[:, 1:2])\n",
    "\n",
    "\n",
    "def p_func(x):\n",
    "    return 1 / 2 * (1 - np.exp(2 * l * x[:, 0:1]))"
   ]
  },
  {
   "cell_type": "code",
   "execution_count": 5,
   "metadata": {},
   "outputs": [],
   "source": [
    "def pde(x, u):\n",
    "    u_vel, v_vel, p = u[:, 0:1], u[:, 1:2], u[:, 2:]\n",
    "    u_vel_x = dde.grad.jacobian(u, x, i=0, j=0)\n",
    "    u_vel_y = dde.grad.jacobian(u, x, i=0, j=1)\n",
    "    u_vel_xx = dde.grad.hessian(u, x, component=0, i=0, j=0)\n",
    "    u_vel_yy = dde.grad.hessian(u, x, component=0, i=1, j=1)\n",
    "\n",
    "    v_vel_x = dde.grad.jacobian(u, x, i=1, j=0)\n",
    "    v_vel_y = dde.grad.jacobian(u, x, i=1, j=1)\n",
    "    v_vel_xx = dde.grad.hessian(u, x, component=1, i=0, j=0)\n",
    "    v_vel_yy = dde.grad.hessian(u, x, component=1, i=1, j=1)\n",
    "\n",
    "    p_x = dde.grad.jacobian(u, x, i=2, j=0)\n",
    "    p_y = dde.grad.jacobian(u, x, i=2, j=1)\n",
    "\n",
    "    momentum_x = (\n",
    "        u_vel * u_vel_x + v_vel * u_vel_y + p_x - 1 / Re * (u_vel_xx + u_vel_yy)\n",
    "    )\n",
    "    momentum_y = (\n",
    "        u_vel * v_vel_x + v_vel * v_vel_y + p_y - 1 / Re * (v_vel_xx + v_vel_yy)\n",
    "    )\n",
    "    continuity = u_vel_x + v_vel_y\n",
    "\n",
    "    return [momentum_x, momentum_y, continuity]"
   ]
  },
  {
   "cell_type": "markdown",
   "metadata": {},
   "source": [
    "# Define BC"
   ]
  },
  {
   "cell_type": "code",
   "execution_count": 6,
   "metadata": {},
   "outputs": [],
   "source": [
    "def boundary_outflow(x, on_boundary):\n",
    "    return on_boundary and np.isclose(x[0], 1)"
   ]
  },
  {
   "cell_type": "code",
   "execution_count": 7,
   "metadata": {},
   "outputs": [],
   "source": [
    "spatial_domain = dde.geometry.Rectangle(xmin=[-0.5, -0.5], xmax=[1, 1.5])\n",
    "\n",
    "boundary_condition_u = dde.icbc.DirichletBC(\n",
    "    spatial_domain, u_func, lambda _, on_boundary: on_boundary, component=0\n",
    ")\n",
    "boundary_condition_v = dde.icbc.DirichletBC(\n",
    "    spatial_domain, v_func, lambda _, on_boundary: on_boundary, component=1\n",
    ")\n",
    "boundary_condition_right_p = dde.icbc.DirichletBC(\n",
    "    spatial_domain, p_func, boundary_outflow, component=2\n",
    ")\n",
    "\n",
    "data = dde.data.PDE(\n",
    "    spatial_domain,\n",
    "    pde,\n",
    "    [boundary_condition_u, boundary_condition_v, boundary_condition_right_p],\n",
    "    num_domain=2601,\n",
    "    num_boundary=400,\n",
    "    num_test=None,\n",
    ")"
   ]
  },
  {
   "cell_type": "markdown",
   "metadata": {},
   "source": [
    "# Network"
   ]
  },
  {
   "cell_type": "code",
   "execution_count": 8,
   "metadata": {},
   "outputs": [],
   "source": [
    "net = dde.nn.FNN([2] + 4 * [50] + [3], \"tanh\", \"Glorot normal\")"
   ]
  },
  {
   "cell_type": "code",
   "execution_count": 9,
   "metadata": {},
   "outputs": [],
   "source": [
    "model = dde.Model(data, net)"
   ]
  },
  {
   "cell_type": "markdown",
   "metadata": {},
   "source": [
    "# Train Adam"
   ]
  },
  {
   "cell_type": "code",
   "execution_count": 10,
   "metadata": {},
   "outputs": [],
   "source": [
    "ckpt_path = Path(\"models/onlyadam/ckpt\")\n",
    "ckpt_path.mkdir(parents=True, exist_ok=True)\n",
    "\n",
    "loss_path = Path(\"models/onlyadam/loss\")\n",
    "loss_path.mkdir(parents=True, exist_ok=True)"
   ]
  },
  {
   "cell_type": "code",
   "execution_count": 11,
   "metadata": {
    "scrolled": false
   },
   "outputs": [
    {
     "name": "stdout",
     "output_type": "stream",
     "text": [
      "Compiling model...\n",
      "'compile' took 0.000238 s\n",
      "\n",
      "Training model...\n",
      "\n",
      "Step      Train loss                                                      Test loss                                                       Test metric\n",
      "0         [6.83e-03, 3.17e-02, 1.48e-01, 3.52e+00, 9.41e-02, 4.80e-01]    [6.83e-03, 3.17e-02, 1.48e-01, 3.52e+00, 9.41e-02, 4.80e-01]    []  \n",
      "Epoch 1: train loss improved from inf to 4.28e+00, saving model to models/onlyadam/ckpt/ckpt-1.pt ...\n",
      "\n",
      "100       [3.97e-03, 7.27e-05, 4.88e-03, 1.18e+00, 7.78e-02, 2.08e-05]    [3.97e-03, 7.27e-05, 4.88e-03, 1.18e+00, 7.78e-02, 2.08e-05]    []  \n",
      "Epoch 100: train loss improved from 4.28e+00 to 1.27e+00, saving model to models/onlyadam/ckpt/ckpt-100.pt ...\n",
      "\n",
      "200       [1.87e-03, 1.27e-04, 4.95e-03, 1.14e+00, 7.71e-02, 1.04e-04]    [1.87e-03, 1.27e-04, 4.95e-03, 1.14e+00, 7.71e-02, 1.04e-04]    []  \n",
      "Epoch 200: train loss improved from 1.27e+00 to 1.23e+00, saving model to models/onlyadam/ckpt/ckpt-200.pt ...\n",
      "\n",
      "300       [4.35e-03, 1.07e-03, 7.23e-03, 9.85e-01, 7.51e-02, 1.75e-04]    [4.35e-03, 1.07e-03, 7.23e-03, 9.85e-01, 7.51e-02, 1.75e-04]    []  \n",
      "Epoch 300: train loss improved from 1.23e+00 to 1.07e+00, saving model to models/onlyadam/ckpt/ckpt-300.pt ...\n",
      "\n",
      "400       [1.39e-02, 1.60e-03, 5.18e-03, 9.19e-01, 8.25e-02, 2.46e-05]    [1.39e-02, 1.60e-03, 5.18e-03, 9.19e-01, 8.25e-02, 2.46e-05]    []  \n",
      "Epoch 400: train loss improved from 1.07e+00 to 1.02e+00, saving model to models/onlyadam/ckpt/ckpt-400.pt ...\n",
      "\n",
      "500       [2.02e-02, 3.70e-03, 3.92e-03, 8.73e-01, 8.91e-02, 6.67e-04]    [2.02e-02, 3.70e-03, 3.92e-03, 8.73e-01, 8.91e-02, 6.67e-04]    []  \n",
      "Epoch 500: train loss improved from 1.02e+00 to 9.91e-01, saving model to models/onlyadam/ckpt/ckpt-500.pt ...\n",
      "\n",
      "600       [1.72e-02, 6.13e-03, 5.75e-03, 8.41e-01, 8.62e-02, 1.68e-03]    [1.72e-02, 6.13e-03, 5.75e-03, 8.41e-01, 8.62e-02, 1.68e-03]    []  \n",
      "Epoch 600: train loss improved from 9.91e-01 to 9.58e-01, saving model to models/onlyadam/ckpt/ckpt-600.pt ...\n",
      "\n",
      "700       [2.28e-02, 5.88e-03, 7.80e-03, 7.69e-01, 8.47e-02, 1.27e-03]    [2.28e-02, 5.88e-03, 7.80e-03, 7.69e-01, 8.47e-02, 1.27e-03]    []  \n",
      "Epoch 700: train loss improved from 9.58e-01 to 8.92e-01, saving model to models/onlyadam/ckpt/ckpt-700.pt ...\n",
      "\n",
      "800       [3.10e-02, 7.35e-03, 8.83e-03, 6.70e-01, 7.73e-02, 8.67e-04]    [3.10e-02, 7.35e-03, 8.83e-03, 6.70e-01, 7.73e-02, 8.67e-04]    []  \n",
      "Epoch 800: train loss improved from 8.92e-01 to 7.96e-01, saving model to models/onlyadam/ckpt/ckpt-800.pt ...\n",
      "\n",
      "900       [4.69e-02, 1.18e-02, 2.19e-02, 3.82e-01, 5.78e-02, 1.04e-03]    [4.69e-02, 1.18e-02, 2.19e-02, 3.82e-01, 5.78e-02, 1.04e-03]    []  \n",
      "Epoch 900: train loss improved from 7.96e-01 to 5.21e-01, saving model to models/onlyadam/ckpt/ckpt-900.pt ...\n",
      "\n",
      "1000      [3.39e-02, 1.13e-02, 1.94e-02, 1.44e-01, 3.68e-02, 6.50e-04]    [3.39e-02, 1.13e-02, 1.94e-02, 1.44e-01, 3.68e-02, 6.50e-04]    []  \n",
      "Epoch 1000: train loss improved from 5.21e-01 to 2.46e-01, saving model to models/onlyadam/ckpt/ckpt-1000.pt ...\n",
      "\n",
      "\n",
      "Best model at step 1000:\n",
      "  train loss: 2.46e-01\n",
      "  test loss: 2.46e-01\n",
      "  test metric: []\n",
      "\n",
      "'train' took 19.178427 s\n",
      "\n"
     ]
    }
   ],
   "source": [
    "# train with adam\n",
    "model.compile(\"adam\", lr=1e-3)\n",
    "checkpointer = dde.callbacks.ModelCheckpoint(ckpt_path / \"ckpt\",\n",
    "                                             verbose=1,\n",
    "                                             save_better_only=True)\n",
    "\n",
    "losshistory, train_state = model.train(iterations=1000, display_every=100, callbacks=[checkpointer])"
   ]
  },
  {
   "cell_type": "code",
   "execution_count": 12,
   "metadata": {
    "scrolled": false
   },
   "outputs": [
    {
     "name": "stdout",
     "output_type": "stream",
     "text": [
      "Saving loss history to models/onlyadam/loss/loss ...\n"
     ]
    },
    {
     "data": {
      "image/png": "[encoded data removed]",
      "text/plain": [
       "<Figure size 640x480 with 1 Axes>"
      ]
     },
     "metadata": {},
     "output_type": "display_data"
    }
   ],
   "source": [
    "dde.utils.external.save_loss_history(loss_history=losshistory, fname=loss_path / \"loss\")\n",
    "dde.utils.external.plot_loss_history(loss_history=losshistory)"
   ]
  },
  {
   "cell_type": "markdown",
   "metadata": {},
   "source": [
    "# Train L-BFGS"
   ]
  },
  {
   "cell_type": "code",
   "execution_count": null,
   "metadata": {},
   "outputs": [],
   "source": [
    "model.compile(\"L-BFGS\")\n",
    "losshistory, train_state = model.train()"
   ]
  },
  {
   "cell_type": "markdown",
   "metadata": {},
   "source": [
    "# Loss & Inference"
   ]
  },
  {
   "cell_type": "code",
   "execution_count": 18,
   "metadata": {},
   "outputs": [
    {
     "name": "stdout",
     "output_type": "stream",
     "text": [
      "Warning: 100000 points required, but 100284 points sampled.\n",
      "Mean residual: 0.09201239\n",
      "L2 relative error in u: 0.20258589\n",
      "L2 relative error in v: 0.63643783\n",
      "L2 relative error in p: 0.44821978\n"
     ]
    }
   ],
   "source": [
    "X = spatial_domain.uniform_points(100000)\n",
    "\n",
    "output = model.predict(X)\n",
    "u_pred = output[:, 0]\n",
    "v_pred = output[:, 1]\n",
    "p_pred = output[:, 2]\n",
    "\n",
    "u_exact = u_func(X).reshape(-1)\n",
    "v_exact = v_func(X).reshape(-1)\n",
    "p_exact = p_func(X).reshape(-1)\n",
    "\n",
    "f = model.predict(X, operator=pde)\n",
    "\n",
    "l2_difference_u = dde.metrics.l2_relative_error(u_exact, u_pred)\n",
    "l2_difference_v = dde.metrics.l2_relative_error(v_exact, v_pred)\n",
    "l2_difference_p = dde.metrics.l2_relative_error(p_exact, p_pred)\n",
    "residual = np.mean(np.absolute(f))\n",
    "\n",
    "print(\"Mean residual:\", residual)\n",
    "print(\"L2 relative error in u:\", l2_difference_u)\n",
    "print(\"L2 relative error in v:\", l2_difference_v)\n",
    "print(\"L2 relative error in p:\", l2_difference_p)"
   ]
  },
  {
   "cell_type": "code",
   "execution_count": null,
   "metadata": {},
   "outputs": [],
   "source": []
  }
 ],
 "metadata": {
  "kernelspec": {
   "display_name": "Python 3 (ipykernel)",
   "language": "python",
   "name": "python3"
  },
  "language_info": {
   "codemirror_mode": {
    "name": "ipython",
    "version": 3
   },
   "file_extension": ".py",
   "mimetype": "text/x-python",
   "name": "python",
   "nbconvert_exporter": "python",
   "pygments_lexer": "ipython3",
   "version": "3.9.16"
  }
 },
 "nbformat": 4,
 "nbformat_minor": 2
}
